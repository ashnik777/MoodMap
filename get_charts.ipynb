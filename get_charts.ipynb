{
 "cells": [
  {
   "cell_type": "code",
   "execution_count": 9,
   "metadata": {},
   "outputs": [],
   "source": [
    "import psycopg2\n",
    "from psycopg2 import sql\n",
    "from sqlalchemy import create_engine\n",
    "import pandas as pd\n",
    "import numpy as np\n",
    "import plotly.graph_objects as go"
   ]
  },
  {
   "cell_type": "code",
   "execution_count": 3,
   "metadata": {},
   "outputs": [],
   "source": [
    "# Replace these with your database details\n",
    "dbname = \"moodmap_db\"\n",
    "user = \"postgres\"\n",
    "password = \"9b6b09d4a1\"\n",
    "host = \"localhost\"\n",
    "port = \"5432\"\n",
    "\n",
    "# Create a connection string\n",
    "conn_str = f\"postgresql://{user}:{password}@{host}:{port}/{dbname}\"\n",
    "\n",
    "# Create a connection\n",
    "engine = create_engine(conn_str)\n"
   ]
  },
  {
   "cell_type": "markdown",
   "metadata": {},
   "source": []
  },
  {
   "cell_type": "code",
   "execution_count": null,
   "metadata": {},
   "outputs": [],
   "source": [
    "    # total_calls,                            |  +\n",
    "    # satisfied_calls,                        | will add to db or calculate here\n",
    "    # not_satisfied_calls,                    | will add to db or calculate here\n",
    "    # alerts,                                 |  +\n",
    "    # customer_sat_level,                     |  +  \n",
    "    # agent_perf_rate,                        |  +\n",
    "    # costumer_care,                          |  +\n",
    "\n",
    "    # average_customer_voice_emotions,\n",
    "    # average_agent_voice_emotions,\n",
    "    # average_customer_text_emotions,\n",
    "    # average_agent_text_emotions,\n",
    "    # share_of_customer_voice_emotion_timeline,\n",
    "    # share_of_agent_voice_emotion_timeline,\n",
    "    # share_of_customer_text_emotion_timeline,\n",
    "    # share_of_agent_text_emotion_timeline,\n",
    "\n",
    "    # call_topics,                            |  +\n",
    "    # ironic_count,                           |  +\n",
    "    # not_ironic_count,                       |  +\n",
    "    # hateful_count,                          |  +\n",
    "    # targeted_count,                         |  - \n",
    "    # aggressive_count,                       |  -\n",
    "\n",
    "    # Normal                                  |  +"
   ]
  },
  {
   "cell_type": "code",
   "execution_count": 3,
   "metadata": {},
   "outputs": [],
   "source": [
    "def get_data_info(start_date,end_date,satisfaction_level,performance_level):\n",
    "    # Replace this with your SQL query\n",
    "    query_call = \"\"\"SELECT * FROM public.call\n",
    "                            WHERE starttime > '{s_d}' and endtime < '{e_d}'\n",
    "                            and customer_satisfaction_rate >'{c_s_0}' and customer_satisfaction_rate <'{c_s_1}';\"\"\".format(s_d=start_date,e_d=end_date,c_s_0=satisfaction_level[0],c_s_1=satisfaction_level[1])\n",
    "\n",
    "    # Replace this with your SQL query\n",
    "    query_call_info = \"\"\"SELECT * FROM public.callinfo\"\"\"\n",
    "\n",
    "    df_call = pd.read_sql_query(query_call, engine)\n",
    "    df_call_info = pd.read_sql_query(query_call_info, engine)\n",
    "\n",
    "    df = pd.merge(df_call,df_call_info,how='left',on='callid')\n",
    "\n",
    "    # Replace this with your SQL query\n",
    "    query_clint_voice_emotion = \"\"\"\n",
    "                        SELECT * FROM public.call_mood_client\n",
    "                        WHERE callid IN {}\n",
    "                            \"\"\".format(tuple(df.callid))\n",
    "\n",
    "    clint_voice_emotion = pd.read_sql_query(query_clint_voice_emotion, engine)\n",
    "\n",
    "    # Replace this with your SQL query\n",
    "    query_agent_voice_emotion = \"\"\"\n",
    "                        SELECT * FROM public.call_mood_agent\n",
    "                        WHERE callid IN {}\n",
    "                            \"\"\".format(tuple(df.callid))\n",
    "\n",
    "    agent_voice_emotion = pd.read_sql_query(query_agent_voice_emotion, engine)\n",
    "\n",
    "    # Replace this with your SQL query\n",
    "    query_clint_text_emotion = \"\"\"\n",
    "                        SELECT * FROM public.call_sentence_client\n",
    "                        WHERE callid IN {}\n",
    "                            \"\"\".format(tuple(df.callid))\n",
    "\n",
    "    clint_text_emotion = pd.read_sql_query(query_clint_text_emotion, engine)\n",
    "\n",
    "    # Replace this with your SQL query\n",
    "    query_agent_text_emotion = \"\"\"\n",
    "                        SELECT * FROM public.call_sentence_agent\n",
    "                        WHERE callid IN {}\n",
    "                            \"\"\".format(tuple(df.callid))\n",
    "\n",
    "    agent_text_emotion = pd.read_sql_query(query_agent_text_emotion, engine)\n",
    "\n",
    "       # Extract emotions and counts\n",
    "    voice_emotions_clinet = pd.DataFrame(clint_voice_emotion.emotion.value_counts()).reset_index()['emotion'].tolist()\n",
    "    voice_counts_client = pd.DataFrame(clint_voice_emotion.emotion.value_counts()).reset_index()['count'].tolist()\n",
    "\n",
    "    # Extract emotions and counts\n",
    "    voice_emotions_agent = pd.DataFrame(agent_voice_emotion.emotion.value_counts()).reset_index()['emotion'].tolist()\n",
    "    voice_counts_agent = pd.DataFrame(agent_voice_emotion.emotion.value_counts()).reset_index()['count'].tolist()\n",
    "\n",
    "    # Extract emotions and counts\n",
    "    text_emotions_clinet = pd.DataFrame(clint_text_emotion.sentiment.value_counts()).reset_index()['sentiment'].tolist()\n",
    "    text_counts_client = pd.DataFrame(clint_text_emotion.sentiment.value_counts()).reset_index()['count'].tolist()\n",
    "\n",
    "    # Extract emotions and counts\n",
    "    text_emotions_agent = pd.DataFrame(agent_text_emotion.sentiment.value_counts()).reset_index()['sentiment'].tolist()\n",
    "    text_counts_agent = pd.DataFrame(agent_text_emotion.sentiment.value_counts()).reset_index()['count'].tolist()\n",
    "\n",
    "    tatal_calls = len(df)\n",
    "    alerts = df.alert.value_counts()[1]\n",
    "    customer_sat_level = df.customer_satisfaction_rate.mean()\n",
    "    agent_perf_rate = df.agent_performance_rate.mean()\n",
    "    costumer_care = df.callscore.mean()\n",
    "    call_topics = df[['topic']]\n",
    "    ironic_count = np.where(df.ironypercent > 30,1,0).sum()\n",
    "    not_ironic_count = (1 - np.where(df.ironypercent > 30,1,0)).sum()\n",
    "    hateful_count = np.where(df.hatespeechpercent > 30,1,0).sum()\n",
    "    not_hateful_count = (1 - np.where(df.hatespeechpercent > 30,1,0)).sum()\n",
    "\n",
    "    return voice_emotions_clinet,voice_counts_client,voice_emotions_agent,voice_counts_agent,text_emotions_clinet,text_counts_client,text_emotions_agent,text_counts_agent,tatal_calls,alerts,customer_sat_level,agent_perf_rate,costumer_care,call_topics,ironic_count,not_ironic_count,hateful_count,not_hateful_count"
   ]
  },
  {
   "cell_type": "code",
   "execution_count": null,
   "metadata": {},
   "outputs": [],
   "source": []
  },
  {
   "cell_type": "code",
   "execution_count": null,
   "metadata": {},
   "outputs": [],
   "source": []
  },
  {
   "cell_type": "code",
   "execution_count": null,
   "metadata": {},
   "outputs": [],
   "source": []
  },
  {
   "cell_type": "code",
   "execution_count": 4,
   "metadata": {},
   "outputs": [],
   "source": [
    "# Replace this with your SQL query\n",
    "query_call = \"\"\"SELECT * FROM public.call;\"\"\"\n",
    "# Replace this with your SQL query\n",
    "query_call_info = \"\"\"SELECT * FROM public.callinfo\"\"\"\n",
    "df_call = pd.read_sql_query(query_call, engine)\n",
    "df_call_info = pd.read_sql_query(query_call_info, engine)\n",
    "df = pd.merge(df_call,df_call_info,how='left',on='callid')"
   ]
  },
  {
   "cell_type": "code",
   "execution_count": 5,
   "metadata": {},
   "outputs": [
    {
     "data": {
      "text/plain": [
       "['id',\n",
       " 'callid',\n",
       " 'topic',\n",
       " 'ironypercent',\n",
       " 'clientinterrupts',\n",
       " 'agentinterrupts',\n",
       " 'silencepercent',\n",
       " 'hatespeechpercent',\n",
       " 'clientspeechduration',\n",
       " 'agentspeechduration',\n",
       " 'customer_satisfaction_rate',\n",
       " 'agent_performance_rate',\n",
       " 'alert',\n",
       " 'satisfied']"
      ]
     },
     "execution_count": 5,
     "metadata": {},
     "output_type": "execute_result"
    }
   ],
   "source": [
    "list(df_call_info.columns)"
   ]
  },
  {
   "cell_type": "code",
   "execution_count": null,
   "metadata": {},
   "outputs": [],
   "source": [
    "['id',\n",
    " 'callid',\n",
    " 'topic',\n",
    " 'ironypercent',\n",
    " 'clientinterrupts',\n",
    " 'agentinterrupts',\n",
    " 'silencepercent',\n",
    " 'hatespeechpercent',\n",
    " 'clientspeechduration',\n",
    " 'agentspeechduration',\n",
    " 'customer_satisfaction_rate',\n",
    " 'agent_performance_rate',\n",
    " 'alert',\n",
    " 'satisfied']"
   ]
  },
  {
   "cell_type": "code",
   "execution_count": 1,
   "metadata": {},
   "outputs": [
    {
     "ename": "NameError",
     "evalue": "name 'df' is not defined",
     "output_type": "error",
     "traceback": [
      "\u001b[0;31m---------------------------------------------------------------------------\u001b[0m",
      "\u001b[0;31mNameError\u001b[0m                                 Traceback (most recent call last)",
      "Cell \u001b[0;32mIn[1], line 1\u001b[0m\n\u001b[0;32m----> 1\u001b[0m \u001b[43mdf\u001b[49m\n",
      "\u001b[0;31mNameError\u001b[0m: name 'df' is not defined"
     ]
    }
   ],
   "source": [
    "df"
   ]
  },
  {
   "cell_type": "code",
   "execution_count": 6,
   "metadata": {},
   "outputs": [],
   "source": [
    "# Replace this with your SQL query\n",
    "query_clint_voice_emotion = \"\"\"\n",
    "                    SELECT * FROM public.call_mood_client\n",
    "                    WHERE callid IN {}\n",
    "                        \"\"\".format(tuple(df.callid))\n",
    "clint_voice_emotion = pd.read_sql_query(query_clint_voice_emotion, engine)\n",
    "# Replace this with your SQL query\n",
    "query_agent_voice_emotion = \"\"\"\n",
    "                    SELECT * FROM public.call_mood_agent\n",
    "                    WHERE callid IN {}\n",
    "                        \"\"\".format(tuple(df.callid))\n",
    "agent_voice_emotion = pd.read_sql_query(query_agent_voice_emotion, engine)\n"
   ]
  },
  {
   "cell_type": "code",
   "execution_count": 7,
   "metadata": {},
   "outputs": [],
   "source": [
    "\n",
    "   # Extract emotions and counts\n",
    "voice_emotions_clinet = pd.DataFrame(clint_voice_emotion.emotion.value_counts()).reset_index()['emotion'].tolist()\n",
    "voice_counts_client = pd.DataFrame(clint_voice_emotion.emotion.value_counts()).reset_index()['count'].tolist()\n",
    "# Extract emotions and counts\n",
    "voice_emotions_agent = pd.DataFrame(agent_voice_emotion.emotion.value_counts()).reset_index()['emotion'].tolist()\n",
    "voice_counts_agent = pd.DataFrame(agent_voice_emotion.emotion.value_counts()).reset_index()['count'].tolist()\n",
    "# Extract emotions and counts"
   ]
  },
  {
   "cell_type": "code",
   "execution_count": 8,
   "metadata": {},
   "outputs": [
    {
     "data": {
      "text/html": [
       "<div>\n",
       "<style scoped>\n",
       "    .dataframe tbody tr th:only-of-type {\n",
       "        vertical-align: middle;\n",
       "    }\n",
       "\n",
       "    .dataframe tbody tr th {\n",
       "        vertical-align: top;\n",
       "    }\n",
       "\n",
       "    .dataframe thead th {\n",
       "        text-align: right;\n",
       "    }\n",
       "</style>\n",
       "<table border=\"1\" class=\"dataframe\">\n",
       "  <thead>\n",
       "    <tr style=\"text-align: right;\">\n",
       "      <th></th>\n",
       "      <th>callid</th>\n",
       "      <th>starttime</th>\n",
       "      <th>agentid</th>\n",
       "      <th>callscore</th>\n",
       "      <th>duration</th>\n",
       "      <th>endtime</th>\n",
       "      <th>id</th>\n",
       "      <th>topic</th>\n",
       "      <th>ironypercent</th>\n",
       "      <th>clientinterrupts</th>\n",
       "      <th>agentinterrupts</th>\n",
       "      <th>silencepercent</th>\n",
       "      <th>hatespeechpercent</th>\n",
       "      <th>clientspeechduration</th>\n",
       "      <th>agentspeechduration</th>\n",
       "      <th>customer_satisfaction_rate</th>\n",
       "      <th>agent_performance_rate</th>\n",
       "      <th>alert</th>\n",
       "      <th>satisfied</th>\n",
       "    </tr>\n",
       "  </thead>\n",
       "  <tbody>\n",
       "    <tr>\n",
       "      <th>4</th>\n",
       "      <td>405</td>\n",
       "      <td>2024-01-04 03:00:45.783885</td>\n",
       "      <td>170226</td>\n",
       "      <td>82</td>\n",
       "      <td>8</td>\n",
       "      <td>2024-01-04 03:01:30.783885</td>\n",
       "      <td>5</td>\n",
       "      <td>YourTopic4</td>\n",
       "      <td>56</td>\n",
       "      <td>0</td>\n",
       "      <td>1</td>\n",
       "      <td>26</td>\n",
       "      <td>60</td>\n",
       "      <td>23</td>\n",
       "      <td>8</td>\n",
       "      <td>11</td>\n",
       "      <td>87</td>\n",
       "      <td>0</td>\n",
       "      <td>False</td>\n",
       "    </tr>\n",
       "    <tr>\n",
       "      <th>6</th>\n",
       "      <td>407</td>\n",
       "      <td>2023-02-09 13:42:45.783885</td>\n",
       "      <td>170224</td>\n",
       "      <td>81</td>\n",
       "      <td>130</td>\n",
       "      <td>2023-02-09 13:43:58.783885</td>\n",
       "      <td>7</td>\n",
       "      <td>YourTopic3</td>\n",
       "      <td>71</td>\n",
       "      <td>0</td>\n",
       "      <td>1</td>\n",
       "      <td>84</td>\n",
       "      <td>7</td>\n",
       "      <td>24</td>\n",
       "      <td>30</td>\n",
       "      <td>90</td>\n",
       "      <td>84</td>\n",
       "      <td>0</td>\n",
       "      <td>True</td>\n",
       "    </tr>\n",
       "    <tr>\n",
       "      <th>7</th>\n",
       "      <td>408</td>\n",
       "      <td>2023-09-12 21:08:45.783885</td>\n",
       "      <td>170223</td>\n",
       "      <td>50</td>\n",
       "      <td>117</td>\n",
       "      <td>2023-09-12 21:09:27.783885</td>\n",
       "      <td>8</td>\n",
       "      <td>YourTopic7</td>\n",
       "      <td>99</td>\n",
       "      <td>0</td>\n",
       "      <td>1</td>\n",
       "      <td>84</td>\n",
       "      <td>98</td>\n",
       "      <td>11</td>\n",
       "      <td>0</td>\n",
       "      <td>87</td>\n",
       "      <td>85</td>\n",
       "      <td>0</td>\n",
       "      <td>True</td>\n",
       "    </tr>\n",
       "    <tr>\n",
       "      <th>8</th>\n",
       "      <td>409</td>\n",
       "      <td>2023-10-17 09:16:45.783885</td>\n",
       "      <td>170225</td>\n",
       "      <td>47</td>\n",
       "      <td>161</td>\n",
       "      <td>2023-10-17 09:18:25.783885</td>\n",
       "      <td>9</td>\n",
       "      <td>YourTopic0</td>\n",
       "      <td>36</td>\n",
       "      <td>1</td>\n",
       "      <td>1</td>\n",
       "      <td>18</td>\n",
       "      <td>17</td>\n",
       "      <td>5</td>\n",
       "      <td>26</td>\n",
       "      <td>54</td>\n",
       "      <td>100</td>\n",
       "      <td>0</td>\n",
       "      <td>True</td>\n",
       "    </tr>\n",
       "    <tr>\n",
       "      <th>10</th>\n",
       "      <td>411</td>\n",
       "      <td>2023-12-23 22:38:45.783885</td>\n",
       "      <td>170227</td>\n",
       "      <td>19</td>\n",
       "      <td>88</td>\n",
       "      <td>2023-12-23 22:39:28.783885</td>\n",
       "      <td>11</td>\n",
       "      <td>YourTopic9</td>\n",
       "      <td>42</td>\n",
       "      <td>1</td>\n",
       "      <td>1</td>\n",
       "      <td>42</td>\n",
       "      <td>14</td>\n",
       "      <td>20</td>\n",
       "      <td>13</td>\n",
       "      <td>6</td>\n",
       "      <td>84</td>\n",
       "      <td>0</td>\n",
       "      <td>True</td>\n",
       "    </tr>\n",
       "    <tr>\n",
       "      <th>13</th>\n",
       "      <td>414</td>\n",
       "      <td>2023-08-04 06:48:45.783885</td>\n",
       "      <td>170228</td>\n",
       "      <td>50</td>\n",
       "      <td>174</td>\n",
       "      <td>2023-08-04 06:49:17.783885</td>\n",
       "      <td>14</td>\n",
       "      <td>YourTopic1</td>\n",
       "      <td>92</td>\n",
       "      <td>1</td>\n",
       "      <td>1</td>\n",
       "      <td>54</td>\n",
       "      <td>51</td>\n",
       "      <td>5</td>\n",
       "      <td>15</td>\n",
       "      <td>32</td>\n",
       "      <td>29</td>\n",
       "      <td>0</td>\n",
       "      <td>False</td>\n",
       "    </tr>\n",
       "    <tr>\n",
       "      <th>17</th>\n",
       "      <td>418</td>\n",
       "      <td>2023-02-27 12:42:45.783885</td>\n",
       "      <td>170226</td>\n",
       "      <td>18</td>\n",
       "      <td>62</td>\n",
       "      <td>2023-02-27 12:43:46.783885</td>\n",
       "      <td>18</td>\n",
       "      <td>YourTopic0</td>\n",
       "      <td>88</td>\n",
       "      <td>0</td>\n",
       "      <td>1</td>\n",
       "      <td>96</td>\n",
       "      <td>9</td>\n",
       "      <td>14</td>\n",
       "      <td>27</td>\n",
       "      <td>51</td>\n",
       "      <td>95</td>\n",
       "      <td>0</td>\n",
       "      <td>True</td>\n",
       "    </tr>\n",
       "    <tr>\n",
       "      <th>20</th>\n",
       "      <td>421</td>\n",
       "      <td>2023-12-30 04:47:45.783885</td>\n",
       "      <td>170223</td>\n",
       "      <td>36</td>\n",
       "      <td>122</td>\n",
       "      <td>2023-12-30 04:48:14.783885</td>\n",
       "      <td>21</td>\n",
       "      <td>YourTopic6</td>\n",
       "      <td>75</td>\n",
       "      <td>0</td>\n",
       "      <td>1</td>\n",
       "      <td>3</td>\n",
       "      <td>69</td>\n",
       "      <td>16</td>\n",
       "      <td>5</td>\n",
       "      <td>29</td>\n",
       "      <td>70</td>\n",
       "      <td>0</td>\n",
       "      <td>False</td>\n",
       "    </tr>\n",
       "    <tr>\n",
       "      <th>24</th>\n",
       "      <td>425</td>\n",
       "      <td>2023-07-28 09:57:45.783885</td>\n",
       "      <td>170228</td>\n",
       "      <td>45</td>\n",
       "      <td>67</td>\n",
       "      <td>2023-07-28 09:58:54.783885</td>\n",
       "      <td>25</td>\n",
       "      <td>YourTopic1</td>\n",
       "      <td>81</td>\n",
       "      <td>1</td>\n",
       "      <td>0</td>\n",
       "      <td>90</td>\n",
       "      <td>3</td>\n",
       "      <td>25</td>\n",
       "      <td>24</td>\n",
       "      <td>2</td>\n",
       "      <td>9</td>\n",
       "      <td>0</td>\n",
       "      <td>False</td>\n",
       "    </tr>\n",
       "    <tr>\n",
       "      <th>28</th>\n",
       "      <td>429</td>\n",
       "      <td>2023-11-04 09:11:45.783885</td>\n",
       "      <td>170222</td>\n",
       "      <td>14</td>\n",
       "      <td>5</td>\n",
       "      <td>2023-11-04 09:12:15.783885</td>\n",
       "      <td>29</td>\n",
       "      <td>YourTopic5</td>\n",
       "      <td>69</td>\n",
       "      <td>1</td>\n",
       "      <td>1</td>\n",
       "      <td>76</td>\n",
       "      <td>19</td>\n",
       "      <td>19</td>\n",
       "      <td>23</td>\n",
       "      <td>57</td>\n",
       "      <td>36</td>\n",
       "      <td>0</td>\n",
       "      <td>True</td>\n",
       "    </tr>\n",
       "    <tr>\n",
       "      <th>30</th>\n",
       "      <td>431</td>\n",
       "      <td>2023-10-09 13:11:45.783885</td>\n",
       "      <td>170223</td>\n",
       "      <td>74</td>\n",
       "      <td>30</td>\n",
       "      <td>2023-10-09 13:13:04.783885</td>\n",
       "      <td>31</td>\n",
       "      <td>YourTopic3</td>\n",
       "      <td>87</td>\n",
       "      <td>0</td>\n",
       "      <td>0</td>\n",
       "      <td>42</td>\n",
       "      <td>34</td>\n",
       "      <td>24</td>\n",
       "      <td>4</td>\n",
       "      <td>49</td>\n",
       "      <td>93</td>\n",
       "      <td>0</td>\n",
       "      <td>True</td>\n",
       "    </tr>\n",
       "    <tr>\n",
       "      <th>35</th>\n",
       "      <td>436</td>\n",
       "      <td>2023-08-09 08:38:45.783885</td>\n",
       "      <td>170228</td>\n",
       "      <td>46</td>\n",
       "      <td>213</td>\n",
       "      <td>2023-08-09 08:39:21.783885</td>\n",
       "      <td>36</td>\n",
       "      <td>YourTopic4</td>\n",
       "      <td>45</td>\n",
       "      <td>1</td>\n",
       "      <td>1</td>\n",
       "      <td>20</td>\n",
       "      <td>10</td>\n",
       "      <td>21</td>\n",
       "      <td>7</td>\n",
       "      <td>30</td>\n",
       "      <td>85</td>\n",
       "      <td>0</td>\n",
       "      <td>False</td>\n",
       "    </tr>\n",
       "    <tr>\n",
       "      <th>36</th>\n",
       "      <td>437</td>\n",
       "      <td>2024-01-08 16:14:45.783885</td>\n",
       "      <td>170222</td>\n",
       "      <td>54</td>\n",
       "      <td>188</td>\n",
       "      <td>2024-01-08 16:15:43.783885</td>\n",
       "      <td>37</td>\n",
       "      <td>YourTopic1</td>\n",
       "      <td>15</td>\n",
       "      <td>0</td>\n",
       "      <td>0</td>\n",
       "      <td>10</td>\n",
       "      <td>44</td>\n",
       "      <td>26</td>\n",
       "      <td>9</td>\n",
       "      <td>57</td>\n",
       "      <td>59</td>\n",
       "      <td>0</td>\n",
       "      <td>False</td>\n",
       "    </tr>\n",
       "    <tr>\n",
       "      <th>38</th>\n",
       "      <td>439</td>\n",
       "      <td>2023-08-12 19:50:45.783885</td>\n",
       "      <td>170224</td>\n",
       "      <td>33</td>\n",
       "      <td>39</td>\n",
       "      <td>2023-08-12 19:52:08.783885</td>\n",
       "      <td>39</td>\n",
       "      <td>YourTopic10</td>\n",
       "      <td>74</td>\n",
       "      <td>0</td>\n",
       "      <td>0</td>\n",
       "      <td>60</td>\n",
       "      <td>9</td>\n",
       "      <td>17</td>\n",
       "      <td>19</td>\n",
       "      <td>43</td>\n",
       "      <td>43</td>\n",
       "      <td>0</td>\n",
       "      <td>False</td>\n",
       "    </tr>\n",
       "    <tr>\n",
       "      <th>40</th>\n",
       "      <td>441</td>\n",
       "      <td>2023-02-14 11:36:45.783885</td>\n",
       "      <td>170225</td>\n",
       "      <td>9</td>\n",
       "      <td>209</td>\n",
       "      <td>2023-02-14 11:36:57.783885</td>\n",
       "      <td>41</td>\n",
       "      <td>YourTopic3</td>\n",
       "      <td>12</td>\n",
       "      <td>1</td>\n",
       "      <td>0</td>\n",
       "      <td>37</td>\n",
       "      <td>27</td>\n",
       "      <td>18</td>\n",
       "      <td>19</td>\n",
       "      <td>55</td>\n",
       "      <td>100</td>\n",
       "      <td>0</td>\n",
       "      <td>True</td>\n",
       "    </tr>\n",
       "    <tr>\n",
       "      <th>41</th>\n",
       "      <td>442</td>\n",
       "      <td>2024-01-12 05:17:45.783885</td>\n",
       "      <td>170225</td>\n",
       "      <td>84</td>\n",
       "      <td>34</td>\n",
       "      <td>2024-01-12 05:18:01.783885</td>\n",
       "      <td>42</td>\n",
       "      <td>YourTopic8</td>\n",
       "      <td>12</td>\n",
       "      <td>0</td>\n",
       "      <td>1</td>\n",
       "      <td>58</td>\n",
       "      <td>90</td>\n",
       "      <td>5</td>\n",
       "      <td>15</td>\n",
       "      <td>71</td>\n",
       "      <td>1</td>\n",
       "      <td>0</td>\n",
       "      <td>True</td>\n",
       "    </tr>\n",
       "    <tr>\n",
       "      <th>43</th>\n",
       "      <td>444</td>\n",
       "      <td>2023-03-20 21:40:45.783885</td>\n",
       "      <td>170222</td>\n",
       "      <td>8</td>\n",
       "      <td>28</td>\n",
       "      <td>2023-03-20 21:41:45.783885</td>\n",
       "      <td>44</td>\n",
       "      <td>YourTopic3</td>\n",
       "      <td>65</td>\n",
       "      <td>0</td>\n",
       "      <td>0</td>\n",
       "      <td>11</td>\n",
       "      <td>46</td>\n",
       "      <td>25</td>\n",
       "      <td>18</td>\n",
       "      <td>84</td>\n",
       "      <td>41</td>\n",
       "      <td>0</td>\n",
       "      <td>True</td>\n",
       "    </tr>\n",
       "    <tr>\n",
       "      <th>47</th>\n",
       "      <td>448</td>\n",
       "      <td>2023-09-16 11:23:45.783885</td>\n",
       "      <td>170222</td>\n",
       "      <td>64</td>\n",
       "      <td>197</td>\n",
       "      <td>2023-09-16 11:24:05.783885</td>\n",
       "      <td>48</td>\n",
       "      <td>YourTopic10</td>\n",
       "      <td>86</td>\n",
       "      <td>0</td>\n",
       "      <td>0</td>\n",
       "      <td>68</td>\n",
       "      <td>86</td>\n",
       "      <td>7</td>\n",
       "      <td>22</td>\n",
       "      <td>2</td>\n",
       "      <td>20</td>\n",
       "      <td>0</td>\n",
       "      <td>True</td>\n",
       "    </tr>\n",
       "    <tr>\n",
       "      <th>48</th>\n",
       "      <td>449</td>\n",
       "      <td>2023-09-18 04:31:45.783885</td>\n",
       "      <td>170228</td>\n",
       "      <td>47</td>\n",
       "      <td>217</td>\n",
       "      <td>2023-09-18 04:33:11.783885</td>\n",
       "      <td>49</td>\n",
       "      <td>YourTopic1</td>\n",
       "      <td>3</td>\n",
       "      <td>0</td>\n",
       "      <td>1</td>\n",
       "      <td>55</td>\n",
       "      <td>30</td>\n",
       "      <td>6</td>\n",
       "      <td>12</td>\n",
       "      <td>6</td>\n",
       "      <td>20</td>\n",
       "      <td>0</td>\n",
       "      <td>False</td>\n",
       "    </tr>\n",
       "    <tr>\n",
       "      <th>51</th>\n",
       "      <td>452</td>\n",
       "      <td>2023-06-14 16:33:45.783885</td>\n",
       "      <td>170226</td>\n",
       "      <td>37</td>\n",
       "      <td>217</td>\n",
       "      <td>2023-06-14 16:35:22.783885</td>\n",
       "      <td>52</td>\n",
       "      <td>YourTopic10</td>\n",
       "      <td>21</td>\n",
       "      <td>1</td>\n",
       "      <td>0</td>\n",
       "      <td>88</td>\n",
       "      <td>43</td>\n",
       "      <td>10</td>\n",
       "      <td>19</td>\n",
       "      <td>87</td>\n",
       "      <td>62</td>\n",
       "      <td>0</td>\n",
       "      <td>False</td>\n",
       "    </tr>\n",
       "    <tr>\n",
       "      <th>53</th>\n",
       "      <td>454</td>\n",
       "      <td>2023-10-28 21:10:45.783885</td>\n",
       "      <td>170225</td>\n",
       "      <td>0</td>\n",
       "      <td>186</td>\n",
       "      <td>2023-10-28 21:11:11.783885</td>\n",
       "      <td>54</td>\n",
       "      <td>YourTopic3</td>\n",
       "      <td>58</td>\n",
       "      <td>1</td>\n",
       "      <td>1</td>\n",
       "      <td>37</td>\n",
       "      <td>9</td>\n",
       "      <td>12</td>\n",
       "      <td>20</td>\n",
       "      <td>42</td>\n",
       "      <td>81</td>\n",
       "      <td>0</td>\n",
       "      <td>False</td>\n",
       "    </tr>\n",
       "    <tr>\n",
       "      <th>54</th>\n",
       "      <td>455</td>\n",
       "      <td>2023-02-22 14:11:45.783885</td>\n",
       "      <td>170228</td>\n",
       "      <td>90</td>\n",
       "      <td>142</td>\n",
       "      <td>2023-02-22 14:13:08.783885</td>\n",
       "      <td>55</td>\n",
       "      <td>YourTopic4</td>\n",
       "      <td>93</td>\n",
       "      <td>0</td>\n",
       "      <td>0</td>\n",
       "      <td>85</td>\n",
       "      <td>99</td>\n",
       "      <td>8</td>\n",
       "      <td>5</td>\n",
       "      <td>37</td>\n",
       "      <td>60</td>\n",
       "      <td>0</td>\n",
       "      <td>True</td>\n",
       "    </tr>\n",
       "    <tr>\n",
       "      <th>56</th>\n",
       "      <td>457</td>\n",
       "      <td>2023-04-16 23:02:45.783885</td>\n",
       "      <td>170228</td>\n",
       "      <td>60</td>\n",
       "      <td>28</td>\n",
       "      <td>2023-04-16 23:03:55.783885</td>\n",
       "      <td>57</td>\n",
       "      <td>YourTopic3</td>\n",
       "      <td>7</td>\n",
       "      <td>0</td>\n",
       "      <td>1</td>\n",
       "      <td>77</td>\n",
       "      <td>92</td>\n",
       "      <td>18</td>\n",
       "      <td>12</td>\n",
       "      <td>45</td>\n",
       "      <td>11</td>\n",
       "      <td>0</td>\n",
       "      <td>False</td>\n",
       "    </tr>\n",
       "    <tr>\n",
       "      <th>60</th>\n",
       "      <td>461</td>\n",
       "      <td>2023-04-10 17:36:45.783885</td>\n",
       "      <td>170227</td>\n",
       "      <td>15</td>\n",
       "      <td>21</td>\n",
       "      <td>2023-04-10 17:36:59.783885</td>\n",
       "      <td>61</td>\n",
       "      <td>YourTopic0</td>\n",
       "      <td>10</td>\n",
       "      <td>0</td>\n",
       "      <td>1</td>\n",
       "      <td>73</td>\n",
       "      <td>78</td>\n",
       "      <td>6</td>\n",
       "      <td>5</td>\n",
       "      <td>88</td>\n",
       "      <td>60</td>\n",
       "      <td>0</td>\n",
       "      <td>False</td>\n",
       "    </tr>\n",
       "    <tr>\n",
       "      <th>61</th>\n",
       "      <td>462</td>\n",
       "      <td>2023-11-03 13:24:45.783885</td>\n",
       "      <td>170226</td>\n",
       "      <td>25</td>\n",
       "      <td>237</td>\n",
       "      <td>2023-11-03 13:26:09.783885</td>\n",
       "      <td>62</td>\n",
       "      <td>YourTopic1</td>\n",
       "      <td>28</td>\n",
       "      <td>1</td>\n",
       "      <td>1</td>\n",
       "      <td>7</td>\n",
       "      <td>27</td>\n",
       "      <td>15</td>\n",
       "      <td>13</td>\n",
       "      <td>10</td>\n",
       "      <td>13</td>\n",
       "      <td>0</td>\n",
       "      <td>False</td>\n",
       "    </tr>\n",
       "    <tr>\n",
       "      <th>62</th>\n",
       "      <td>463</td>\n",
       "      <td>2023-02-05 03:47:45.783885</td>\n",
       "      <td>170228</td>\n",
       "      <td>24</td>\n",
       "      <td>82</td>\n",
       "      <td>2023-02-05 03:48:10.783885</td>\n",
       "      <td>63</td>\n",
       "      <td>YourTopic10</td>\n",
       "      <td>49</td>\n",
       "      <td>0</td>\n",
       "      <td>1</td>\n",
       "      <td>79</td>\n",
       "      <td>73</td>\n",
       "      <td>7</td>\n",
       "      <td>23</td>\n",
       "      <td>96</td>\n",
       "      <td>33</td>\n",
       "      <td>0</td>\n",
       "      <td>True</td>\n",
       "    </tr>\n",
       "    <tr>\n",
       "      <th>63</th>\n",
       "      <td>464</td>\n",
       "      <td>2023-04-23 02:11:45.783885</td>\n",
       "      <td>170222</td>\n",
       "      <td>19</td>\n",
       "      <td>134</td>\n",
       "      <td>2023-04-23 02:12:09.783885</td>\n",
       "      <td>64</td>\n",
       "      <td>YourTopic6</td>\n",
       "      <td>59</td>\n",
       "      <td>0</td>\n",
       "      <td>1</td>\n",
       "      <td>60</td>\n",
       "      <td>87</td>\n",
       "      <td>10</td>\n",
       "      <td>22</td>\n",
       "      <td>42</td>\n",
       "      <td>20</td>\n",
       "      <td>0</td>\n",
       "      <td>False</td>\n",
       "    </tr>\n",
       "    <tr>\n",
       "      <th>65</th>\n",
       "      <td>466</td>\n",
       "      <td>2023-11-09 14:13:45.783885</td>\n",
       "      <td>170223</td>\n",
       "      <td>15</td>\n",
       "      <td>184</td>\n",
       "      <td>2023-11-09 14:13:56.783885</td>\n",
       "      <td>66</td>\n",
       "      <td>YourTopic5</td>\n",
       "      <td>76</td>\n",
       "      <td>1</td>\n",
       "      <td>0</td>\n",
       "      <td>15</td>\n",
       "      <td>36</td>\n",
       "      <td>5</td>\n",
       "      <td>1</td>\n",
       "      <td>47</td>\n",
       "      <td>21</td>\n",
       "      <td>0</td>\n",
       "      <td>False</td>\n",
       "    </tr>\n",
       "    <tr>\n",
       "      <th>66</th>\n",
       "      <td>467</td>\n",
       "      <td>2023-08-24 09:47:45.783885</td>\n",
       "      <td>170222</td>\n",
       "      <td>98</td>\n",
       "      <td>150</td>\n",
       "      <td>2023-08-24 09:47:59.783885</td>\n",
       "      <td>67</td>\n",
       "      <td>YourTopic3</td>\n",
       "      <td>55</td>\n",
       "      <td>0</td>\n",
       "      <td>0</td>\n",
       "      <td>43</td>\n",
       "      <td>54</td>\n",
       "      <td>5</td>\n",
       "      <td>15</td>\n",
       "      <td>86</td>\n",
       "      <td>33</td>\n",
       "      <td>0</td>\n",
       "      <td>False</td>\n",
       "    </tr>\n",
       "    <tr>\n",
       "      <th>68</th>\n",
       "      <td>469</td>\n",
       "      <td>2023-02-20 17:29:45.783885</td>\n",
       "      <td>170222</td>\n",
       "      <td>76</td>\n",
       "      <td>24</td>\n",
       "      <td>2023-02-20 17:30:58.783885</td>\n",
       "      <td>69</td>\n",
       "      <td>YourTopic5</td>\n",
       "      <td>59</td>\n",
       "      <td>1</td>\n",
       "      <td>0</td>\n",
       "      <td>83</td>\n",
       "      <td>94</td>\n",
       "      <td>16</td>\n",
       "      <td>1</td>\n",
       "      <td>18</td>\n",
       "      <td>67</td>\n",
       "      <td>0</td>\n",
       "      <td>False</td>\n",
       "    </tr>\n",
       "    <tr>\n",
       "      <th>69</th>\n",
       "      <td>470</td>\n",
       "      <td>2023-10-18 13:27:45.783885</td>\n",
       "      <td>170226</td>\n",
       "      <td>9</td>\n",
       "      <td>187</td>\n",
       "      <td>2023-10-18 13:29:08.783885</td>\n",
       "      <td>70</td>\n",
       "      <td>YourTopic8</td>\n",
       "      <td>80</td>\n",
       "      <td>0</td>\n",
       "      <td>1</td>\n",
       "      <td>15</td>\n",
       "      <td>56</td>\n",
       "      <td>4</td>\n",
       "      <td>15</td>\n",
       "      <td>72</td>\n",
       "      <td>44</td>\n",
       "      <td>0</td>\n",
       "      <td>False</td>\n",
       "    </tr>\n",
       "    <tr>\n",
       "      <th>70</th>\n",
       "      <td>471</td>\n",
       "      <td>2023-08-16 14:08:45.783885</td>\n",
       "      <td>170225</td>\n",
       "      <td>80</td>\n",
       "      <td>19</td>\n",
       "      <td>2023-08-16 14:09:52.783885</td>\n",
       "      <td>71</td>\n",
       "      <td>YourTopic9</td>\n",
       "      <td>63</td>\n",
       "      <td>1</td>\n",
       "      <td>0</td>\n",
       "      <td>88</td>\n",
       "      <td>89</td>\n",
       "      <td>21</td>\n",
       "      <td>16</td>\n",
       "      <td>99</td>\n",
       "      <td>36</td>\n",
       "      <td>0</td>\n",
       "      <td>False</td>\n",
       "    </tr>\n",
       "    <tr>\n",
       "      <th>72</th>\n",
       "      <td>473</td>\n",
       "      <td>2023-09-27 16:10:45.783885</td>\n",
       "      <td>170224</td>\n",
       "      <td>8</td>\n",
       "      <td>61</td>\n",
       "      <td>2023-09-27 16:11:46.783885</td>\n",
       "      <td>73</td>\n",
       "      <td>YourTopic5</td>\n",
       "      <td>66</td>\n",
       "      <td>1</td>\n",
       "      <td>0</td>\n",
       "      <td>88</td>\n",
       "      <td>9</td>\n",
       "      <td>26</td>\n",
       "      <td>26</td>\n",
       "      <td>39</td>\n",
       "      <td>18</td>\n",
       "      <td>0</td>\n",
       "      <td>False</td>\n",
       "    </tr>\n",
       "    <tr>\n",
       "      <th>73</th>\n",
       "      <td>474</td>\n",
       "      <td>2023-09-04 09:12:45.783885</td>\n",
       "      <td>170227</td>\n",
       "      <td>22</td>\n",
       "      <td>67</td>\n",
       "      <td>2023-09-04 09:13:14.783885</td>\n",
       "      <td>74</td>\n",
       "      <td>YourTopic5</td>\n",
       "      <td>97</td>\n",
       "      <td>0</td>\n",
       "      <td>0</td>\n",
       "      <td>10</td>\n",
       "      <td>45</td>\n",
       "      <td>10</td>\n",
       "      <td>24</td>\n",
       "      <td>81</td>\n",
       "      <td>30</td>\n",
       "      <td>0</td>\n",
       "      <td>False</td>\n",
       "    </tr>\n",
       "    <tr>\n",
       "      <th>74</th>\n",
       "      <td>475</td>\n",
       "      <td>2023-10-16 19:35:45.783885</td>\n",
       "      <td>170228</td>\n",
       "      <td>95</td>\n",
       "      <td>16</td>\n",
       "      <td>2023-10-16 19:36:35.783885</td>\n",
       "      <td>75</td>\n",
       "      <td>YourTopic9</td>\n",
       "      <td>27</td>\n",
       "      <td>0</td>\n",
       "      <td>0</td>\n",
       "      <td>45</td>\n",
       "      <td>92</td>\n",
       "      <td>23</td>\n",
       "      <td>10</td>\n",
       "      <td>23</td>\n",
       "      <td>97</td>\n",
       "      <td>0</td>\n",
       "      <td>True</td>\n",
       "    </tr>\n",
       "    <tr>\n",
       "      <th>75</th>\n",
       "      <td>476</td>\n",
       "      <td>2023-02-21 00:42:45.783885</td>\n",
       "      <td>170228</td>\n",
       "      <td>54</td>\n",
       "      <td>171</td>\n",
       "      <td>2023-02-21 00:43:38.783885</td>\n",
       "      <td>76</td>\n",
       "      <td>YourTopic6</td>\n",
       "      <td>70</td>\n",
       "      <td>1</td>\n",
       "      <td>0</td>\n",
       "      <td>30</td>\n",
       "      <td>55</td>\n",
       "      <td>9</td>\n",
       "      <td>14</td>\n",
       "      <td>46</td>\n",
       "      <td>39</td>\n",
       "      <td>0</td>\n",
       "      <td>True</td>\n",
       "    </tr>\n",
       "    <tr>\n",
       "      <th>85</th>\n",
       "      <td>486</td>\n",
       "      <td>2023-11-14 03:51:45.783885</td>\n",
       "      <td>170222</td>\n",
       "      <td>47</td>\n",
       "      <td>136</td>\n",
       "      <td>2023-11-14 03:53:02.783885</td>\n",
       "      <td>86</td>\n",
       "      <td>YourTopic10</td>\n",
       "      <td>30</td>\n",
       "      <td>0</td>\n",
       "      <td>1</td>\n",
       "      <td>81</td>\n",
       "      <td>57</td>\n",
       "      <td>10</td>\n",
       "      <td>6</td>\n",
       "      <td>1</td>\n",
       "      <td>86</td>\n",
       "      <td>0</td>\n",
       "      <td>False</td>\n",
       "    </tr>\n",
       "    <tr>\n",
       "      <th>86</th>\n",
       "      <td>487</td>\n",
       "      <td>2023-05-26 23:38:45.783885</td>\n",
       "      <td>170227</td>\n",
       "      <td>74</td>\n",
       "      <td>219</td>\n",
       "      <td>2023-05-26 23:39:33.783885</td>\n",
       "      <td>87</td>\n",
       "      <td>YourTopic1</td>\n",
       "      <td>80</td>\n",
       "      <td>0</td>\n",
       "      <td>1</td>\n",
       "      <td>99</td>\n",
       "      <td>50</td>\n",
       "      <td>5</td>\n",
       "      <td>23</td>\n",
       "      <td>88</td>\n",
       "      <td>35</td>\n",
       "      <td>0</td>\n",
       "      <td>True</td>\n",
       "    </tr>\n",
       "    <tr>\n",
       "      <th>87</th>\n",
       "      <td>488</td>\n",
       "      <td>2023-02-07 05:34:45.783885</td>\n",
       "      <td>170222</td>\n",
       "      <td>37</td>\n",
       "      <td>6</td>\n",
       "      <td>2023-02-07 05:34:58.783885</td>\n",
       "      <td>88</td>\n",
       "      <td>YourTopic9</td>\n",
       "      <td>24</td>\n",
       "      <td>1</td>\n",
       "      <td>1</td>\n",
       "      <td>84</td>\n",
       "      <td>7</td>\n",
       "      <td>15</td>\n",
       "      <td>1</td>\n",
       "      <td>22</td>\n",
       "      <td>91</td>\n",
       "      <td>0</td>\n",
       "      <td>True</td>\n",
       "    </tr>\n",
       "    <tr>\n",
       "      <th>88</th>\n",
       "      <td>489</td>\n",
       "      <td>2023-01-28 14:41:45.783885</td>\n",
       "      <td>170224</td>\n",
       "      <td>4</td>\n",
       "      <td>210</td>\n",
       "      <td>2023-01-28 14:43:12.783885</td>\n",
       "      <td>89</td>\n",
       "      <td>YourTopic3</td>\n",
       "      <td>37</td>\n",
       "      <td>1</td>\n",
       "      <td>0</td>\n",
       "      <td>79</td>\n",
       "      <td>49</td>\n",
       "      <td>19</td>\n",
       "      <td>28</td>\n",
       "      <td>43</td>\n",
       "      <td>70</td>\n",
       "      <td>0</td>\n",
       "      <td>False</td>\n",
       "    </tr>\n",
       "    <tr>\n",
       "      <th>92</th>\n",
       "      <td>493</td>\n",
       "      <td>2023-06-24 01:41:45.783885</td>\n",
       "      <td>170227</td>\n",
       "      <td>52</td>\n",
       "      <td>12</td>\n",
       "      <td>2023-06-24 01:43:23.783885</td>\n",
       "      <td>93</td>\n",
       "      <td>YourTopic6</td>\n",
       "      <td>26</td>\n",
       "      <td>0</td>\n",
       "      <td>1</td>\n",
       "      <td>85</td>\n",
       "      <td>17</td>\n",
       "      <td>8</td>\n",
       "      <td>9</td>\n",
       "      <td>84</td>\n",
       "      <td>60</td>\n",
       "      <td>0</td>\n",
       "      <td>False</td>\n",
       "    </tr>\n",
       "    <tr>\n",
       "      <th>93</th>\n",
       "      <td>494</td>\n",
       "      <td>2023-02-05 05:30:45.783885</td>\n",
       "      <td>170227</td>\n",
       "      <td>80</td>\n",
       "      <td>235</td>\n",
       "      <td>2023-02-05 05:31:08.783885</td>\n",
       "      <td>94</td>\n",
       "      <td>YourTopic5</td>\n",
       "      <td>59</td>\n",
       "      <td>0</td>\n",
       "      <td>0</td>\n",
       "      <td>99</td>\n",
       "      <td>53</td>\n",
       "      <td>12</td>\n",
       "      <td>6</td>\n",
       "      <td>51</td>\n",
       "      <td>70</td>\n",
       "      <td>0</td>\n",
       "      <td>True</td>\n",
       "    </tr>\n",
       "    <tr>\n",
       "      <th>96</th>\n",
       "      <td>497</td>\n",
       "      <td>2023-08-10 05:57:45.783885</td>\n",
       "      <td>170222</td>\n",
       "      <td>97</td>\n",
       "      <td>238</td>\n",
       "      <td>2023-08-10 05:59:16.783885</td>\n",
       "      <td>97</td>\n",
       "      <td>YourTopic6</td>\n",
       "      <td>85</td>\n",
       "      <td>0</td>\n",
       "      <td>1</td>\n",
       "      <td>13</td>\n",
       "      <td>44</td>\n",
       "      <td>18</td>\n",
       "      <td>12</td>\n",
       "      <td>27</td>\n",
       "      <td>83</td>\n",
       "      <td>0</td>\n",
       "      <td>True</td>\n",
       "    </tr>\n",
       "    <tr>\n",
       "      <th>97</th>\n",
       "      <td>498</td>\n",
       "      <td>2023-03-14 03:12:45.783885</td>\n",
       "      <td>170227</td>\n",
       "      <td>93</td>\n",
       "      <td>186</td>\n",
       "      <td>2023-03-14 03:13:30.783885</td>\n",
       "      <td>98</td>\n",
       "      <td>YourTopic7</td>\n",
       "      <td>20</td>\n",
       "      <td>1</td>\n",
       "      <td>1</td>\n",
       "      <td>49</td>\n",
       "      <td>46</td>\n",
       "      <td>5</td>\n",
       "      <td>13</td>\n",
       "      <td>44</td>\n",
       "      <td>60</td>\n",
       "      <td>0</td>\n",
       "      <td>False</td>\n",
       "    </tr>\n",
       "    <tr>\n",
       "      <th>99</th>\n",
       "      <td>500</td>\n",
       "      <td>2023-03-16 23:49:45.783885</td>\n",
       "      <td>170223</td>\n",
       "      <td>3</td>\n",
       "      <td>43</td>\n",
       "      <td>2023-03-16 23:50:26.783885</td>\n",
       "      <td>100</td>\n",
       "      <td>YourTopic3</td>\n",
       "      <td>25</td>\n",
       "      <td>0</td>\n",
       "      <td>0</td>\n",
       "      <td>28</td>\n",
       "      <td>94</td>\n",
       "      <td>10</td>\n",
       "      <td>22</td>\n",
       "      <td>20</td>\n",
       "      <td>49</td>\n",
       "      <td>0</td>\n",
       "      <td>True</td>\n",
       "    </tr>\n",
       "  </tbody>\n",
       "</table>\n",
       "</div>"
      ],
      "text/plain": [
       "    callid                  starttime  agentid  callscore  duration  \\\n",
       "4      405 2024-01-04 03:00:45.783885   170226         82         8   \n",
       "6      407 2023-02-09 13:42:45.783885   170224         81       130   \n",
       "7      408 2023-09-12 21:08:45.783885   170223         50       117   \n",
       "8      409 2023-10-17 09:16:45.783885   170225         47       161   \n",
       "10     411 2023-12-23 22:38:45.783885   170227         19        88   \n",
       "13     414 2023-08-04 06:48:45.783885   170228         50       174   \n",
       "17     418 2023-02-27 12:42:45.783885   170226         18        62   \n",
       "20     421 2023-12-30 04:47:45.783885   170223         36       122   \n",
       "24     425 2023-07-28 09:57:45.783885   170228         45        67   \n",
       "28     429 2023-11-04 09:11:45.783885   170222         14         5   \n",
       "30     431 2023-10-09 13:11:45.783885   170223         74        30   \n",
       "35     436 2023-08-09 08:38:45.783885   170228         46       213   \n",
       "36     437 2024-01-08 16:14:45.783885   170222         54       188   \n",
       "38     439 2023-08-12 19:50:45.783885   170224         33        39   \n",
       "40     441 2023-02-14 11:36:45.783885   170225          9       209   \n",
       "41     442 2024-01-12 05:17:45.783885   170225         84        34   \n",
       "43     444 2023-03-20 21:40:45.783885   170222          8        28   \n",
       "47     448 2023-09-16 11:23:45.783885   170222         64       197   \n",
       "48     449 2023-09-18 04:31:45.783885   170228         47       217   \n",
       "51     452 2023-06-14 16:33:45.783885   170226         37       217   \n",
       "53     454 2023-10-28 21:10:45.783885   170225          0       186   \n",
       "54     455 2023-02-22 14:11:45.783885   170228         90       142   \n",
       "56     457 2023-04-16 23:02:45.783885   170228         60        28   \n",
       "60     461 2023-04-10 17:36:45.783885   170227         15        21   \n",
       "61     462 2023-11-03 13:24:45.783885   170226         25       237   \n",
       "62     463 2023-02-05 03:47:45.783885   170228         24        82   \n",
       "63     464 2023-04-23 02:11:45.783885   170222         19       134   \n",
       "65     466 2023-11-09 14:13:45.783885   170223         15       184   \n",
       "66     467 2023-08-24 09:47:45.783885   170222         98       150   \n",
       "68     469 2023-02-20 17:29:45.783885   170222         76        24   \n",
       "69     470 2023-10-18 13:27:45.783885   170226          9       187   \n",
       "70     471 2023-08-16 14:08:45.783885   170225         80        19   \n",
       "72     473 2023-09-27 16:10:45.783885   170224          8        61   \n",
       "73     474 2023-09-04 09:12:45.783885   170227         22        67   \n",
       "74     475 2023-10-16 19:35:45.783885   170228         95        16   \n",
       "75     476 2023-02-21 00:42:45.783885   170228         54       171   \n",
       "85     486 2023-11-14 03:51:45.783885   170222         47       136   \n",
       "86     487 2023-05-26 23:38:45.783885   170227         74       219   \n",
       "87     488 2023-02-07 05:34:45.783885   170222         37         6   \n",
       "88     489 2023-01-28 14:41:45.783885   170224          4       210   \n",
       "92     493 2023-06-24 01:41:45.783885   170227         52        12   \n",
       "93     494 2023-02-05 05:30:45.783885   170227         80       235   \n",
       "96     497 2023-08-10 05:57:45.783885   170222         97       238   \n",
       "97     498 2023-03-14 03:12:45.783885   170227         93       186   \n",
       "99     500 2023-03-16 23:49:45.783885   170223          3        43   \n",
       "\n",
       "                      endtime   id        topic  ironypercent  \\\n",
       "4  2024-01-04 03:01:30.783885    5   YourTopic4            56   \n",
       "6  2023-02-09 13:43:58.783885    7   YourTopic3            71   \n",
       "7  2023-09-12 21:09:27.783885    8   YourTopic7            99   \n",
       "8  2023-10-17 09:18:25.783885    9   YourTopic0            36   \n",
       "10 2023-12-23 22:39:28.783885   11   YourTopic9            42   \n",
       "13 2023-08-04 06:49:17.783885   14   YourTopic1            92   \n",
       "17 2023-02-27 12:43:46.783885   18   YourTopic0            88   \n",
       "20 2023-12-30 04:48:14.783885   21   YourTopic6            75   \n",
       "24 2023-07-28 09:58:54.783885   25   YourTopic1            81   \n",
       "28 2023-11-04 09:12:15.783885   29   YourTopic5            69   \n",
       "30 2023-10-09 13:13:04.783885   31   YourTopic3            87   \n",
       "35 2023-08-09 08:39:21.783885   36   YourTopic4            45   \n",
       "36 2024-01-08 16:15:43.783885   37   YourTopic1            15   \n",
       "38 2023-08-12 19:52:08.783885   39  YourTopic10            74   \n",
       "40 2023-02-14 11:36:57.783885   41   YourTopic3            12   \n",
       "41 2024-01-12 05:18:01.783885   42   YourTopic8            12   \n",
       "43 2023-03-20 21:41:45.783885   44   YourTopic3            65   \n",
       "47 2023-09-16 11:24:05.783885   48  YourTopic10            86   \n",
       "48 2023-09-18 04:33:11.783885   49   YourTopic1             3   \n",
       "51 2023-06-14 16:35:22.783885   52  YourTopic10            21   \n",
       "53 2023-10-28 21:11:11.783885   54   YourTopic3            58   \n",
       "54 2023-02-22 14:13:08.783885   55   YourTopic4            93   \n",
       "56 2023-04-16 23:03:55.783885   57   YourTopic3             7   \n",
       "60 2023-04-10 17:36:59.783885   61   YourTopic0            10   \n",
       "61 2023-11-03 13:26:09.783885   62   YourTopic1            28   \n",
       "62 2023-02-05 03:48:10.783885   63  YourTopic10            49   \n",
       "63 2023-04-23 02:12:09.783885   64   YourTopic6            59   \n",
       "65 2023-11-09 14:13:56.783885   66   YourTopic5            76   \n",
       "66 2023-08-24 09:47:59.783885   67   YourTopic3            55   \n",
       "68 2023-02-20 17:30:58.783885   69   YourTopic5            59   \n",
       "69 2023-10-18 13:29:08.783885   70   YourTopic8            80   \n",
       "70 2023-08-16 14:09:52.783885   71   YourTopic9            63   \n",
       "72 2023-09-27 16:11:46.783885   73   YourTopic5            66   \n",
       "73 2023-09-04 09:13:14.783885   74   YourTopic5            97   \n",
       "74 2023-10-16 19:36:35.783885   75   YourTopic9            27   \n",
       "75 2023-02-21 00:43:38.783885   76   YourTopic6            70   \n",
       "85 2023-11-14 03:53:02.783885   86  YourTopic10            30   \n",
       "86 2023-05-26 23:39:33.783885   87   YourTopic1            80   \n",
       "87 2023-02-07 05:34:58.783885   88   YourTopic9            24   \n",
       "88 2023-01-28 14:43:12.783885   89   YourTopic3            37   \n",
       "92 2023-06-24 01:43:23.783885   93   YourTopic6            26   \n",
       "93 2023-02-05 05:31:08.783885   94   YourTopic5            59   \n",
       "96 2023-08-10 05:59:16.783885   97   YourTopic6            85   \n",
       "97 2023-03-14 03:13:30.783885   98   YourTopic7            20   \n",
       "99 2023-03-16 23:50:26.783885  100   YourTopic3            25   \n",
       "\n",
       "    clientinterrupts  agentinterrupts  silencepercent  hatespeechpercent  \\\n",
       "4                  0                1              26                 60   \n",
       "6                  0                1              84                  7   \n",
       "7                  0                1              84                 98   \n",
       "8                  1                1              18                 17   \n",
       "10                 1                1              42                 14   \n",
       "13                 1                1              54                 51   \n",
       "17                 0                1              96                  9   \n",
       "20                 0                1               3                 69   \n",
       "24                 1                0              90                  3   \n",
       "28                 1                1              76                 19   \n",
       "30                 0                0              42                 34   \n",
       "35                 1                1              20                 10   \n",
       "36                 0                0              10                 44   \n",
       "38                 0                0              60                  9   \n",
       "40                 1                0              37                 27   \n",
       "41                 0                1              58                 90   \n",
       "43                 0                0              11                 46   \n",
       "47                 0                0              68                 86   \n",
       "48                 0                1              55                 30   \n",
       "51                 1                0              88                 43   \n",
       "53                 1                1              37                  9   \n",
       "54                 0                0              85                 99   \n",
       "56                 0                1              77                 92   \n",
       "60                 0                1              73                 78   \n",
       "61                 1                1               7                 27   \n",
       "62                 0                1              79                 73   \n",
       "63                 0                1              60                 87   \n",
       "65                 1                0              15                 36   \n",
       "66                 0                0              43                 54   \n",
       "68                 1                0              83                 94   \n",
       "69                 0                1              15                 56   \n",
       "70                 1                0              88                 89   \n",
       "72                 1                0              88                  9   \n",
       "73                 0                0              10                 45   \n",
       "74                 0                0              45                 92   \n",
       "75                 1                0              30                 55   \n",
       "85                 0                1              81                 57   \n",
       "86                 0                1              99                 50   \n",
       "87                 1                1              84                  7   \n",
       "88                 1                0              79                 49   \n",
       "92                 0                1              85                 17   \n",
       "93                 0                0              99                 53   \n",
       "96                 0                1              13                 44   \n",
       "97                 1                1              49                 46   \n",
       "99                 0                0              28                 94   \n",
       "\n",
       "    clientspeechduration  agentspeechduration  customer_satisfaction_rate  \\\n",
       "4                     23                    8                          11   \n",
       "6                     24                   30                          90   \n",
       "7                     11                    0                          87   \n",
       "8                      5                   26                          54   \n",
       "10                    20                   13                           6   \n",
       "13                     5                   15                          32   \n",
       "17                    14                   27                          51   \n",
       "20                    16                    5                          29   \n",
       "24                    25                   24                           2   \n",
       "28                    19                   23                          57   \n",
       "30                    24                    4                          49   \n",
       "35                    21                    7                          30   \n",
       "36                    26                    9                          57   \n",
       "38                    17                   19                          43   \n",
       "40                    18                   19                          55   \n",
       "41                     5                   15                          71   \n",
       "43                    25                   18                          84   \n",
       "47                     7                   22                           2   \n",
       "48                     6                   12                           6   \n",
       "51                    10                   19                          87   \n",
       "53                    12                   20                          42   \n",
       "54                     8                    5                          37   \n",
       "56                    18                   12                          45   \n",
       "60                     6                    5                          88   \n",
       "61                    15                   13                          10   \n",
       "62                     7                   23                          96   \n",
       "63                    10                   22                          42   \n",
       "65                     5                    1                          47   \n",
       "66                     5                   15                          86   \n",
       "68                    16                    1                          18   \n",
       "69                     4                   15                          72   \n",
       "70                    21                   16                          99   \n",
       "72                    26                   26                          39   \n",
       "73                    10                   24                          81   \n",
       "74                    23                   10                          23   \n",
       "75                     9                   14                          46   \n",
       "85                    10                    6                           1   \n",
       "86                     5                   23                          88   \n",
       "87                    15                    1                          22   \n",
       "88                    19                   28                          43   \n",
       "92                     8                    9                          84   \n",
       "93                    12                    6                          51   \n",
       "96                    18                   12                          27   \n",
       "97                     5                   13                          44   \n",
       "99                    10                   22                          20   \n",
       "\n",
       "    agent_performance_rate  alert  satisfied  \n",
       "4                       87      0      False  \n",
       "6                       84      0       True  \n",
       "7                       85      0       True  \n",
       "8                      100      0       True  \n",
       "10                      84      0       True  \n",
       "13                      29      0      False  \n",
       "17                      95      0       True  \n",
       "20                      70      0      False  \n",
       "24                       9      0      False  \n",
       "28                      36      0       True  \n",
       "30                      93      0       True  \n",
       "35                      85      0      False  \n",
       "36                      59      0      False  \n",
       "38                      43      0      False  \n",
       "40                     100      0       True  \n",
       "41                       1      0       True  \n",
       "43                      41      0       True  \n",
       "47                      20      0       True  \n",
       "48                      20      0      False  \n",
       "51                      62      0      False  \n",
       "53                      81      0      False  \n",
       "54                      60      0       True  \n",
       "56                      11      0      False  \n",
       "60                      60      0      False  \n",
       "61                      13      0      False  \n",
       "62                      33      0       True  \n",
       "63                      20      0      False  \n",
       "65                      21      0      False  \n",
       "66                      33      0      False  \n",
       "68                      67      0      False  \n",
       "69                      44      0      False  \n",
       "70                      36      0      False  \n",
       "72                      18      0      False  \n",
       "73                      30      0      False  \n",
       "74                      97      0       True  \n",
       "75                      39      0       True  \n",
       "85                      86      0      False  \n",
       "86                      35      0       True  \n",
       "87                      91      0       True  \n",
       "88                      70      0      False  \n",
       "92                      60      0      False  \n",
       "93                      70      0       True  \n",
       "96                      83      0       True  \n",
       "97                      60      0      False  \n",
       "99                      49      0       True  "
      ]
     },
     "execution_count": 8,
     "metadata": {},
     "output_type": "execute_result"
    }
   ],
   "source": [
    "df[df.alert == 0]"
   ]
  },
  {
   "cell_type": "code",
   "execution_count": 13,
   "metadata": {},
   "outputs": [
    {
     "data": {
      "text/html": [
       "<div>\n",
       "<style scoped>\n",
       "    .dataframe tbody tr th:only-of-type {\n",
       "        vertical-align: middle;\n",
       "    }\n",
       "\n",
       "    .dataframe tbody tr th {\n",
       "        vertical-align: top;\n",
       "    }\n",
       "\n",
       "    .dataframe thead th {\n",
       "        text-align: right;\n",
       "    }\n",
       "</style>\n",
       "<table border=\"1\" class=\"dataframe\">\n",
       "  <thead>\n",
       "    <tr style=\"text-align: right;\">\n",
       "      <th></th>\n",
       "      <th>id</th>\n",
       "      <th>callid</th>\n",
       "      <th>speechtext</th>\n",
       "      <th>sentiment</th>\n",
       "      <th>irony</th>\n",
       "      <th>starttime</th>\n",
       "      <th>endtime</th>\n",
       "      <th>hatelevelpercent</th>\n",
       "      <th>meanemotion</th>\n",
       "    </tr>\n",
       "  </thead>\n",
       "  <tbody>\n",
       "    <tr>\n",
       "      <th>0</th>\n",
       "      <td>1</td>\n",
       "      <td>401</td>\n",
       "      <td>Random text 1</td>\n",
       "      <td>neutral</td>\n",
       "      <td>0</td>\n",
       "      <td>2024-01-13 18:18:27.824429</td>\n",
       "      <td>2024-01-13 17:54:37.138510</td>\n",
       "      <td>57</td>\n",
       "      <td>happy</td>\n",
       "    </tr>\n",
       "    <tr>\n",
       "      <th>1</th>\n",
       "      <td>2</td>\n",
       "      <td>402</td>\n",
       "      <td>Random text 2</td>\n",
       "      <td>negative</td>\n",
       "      <td>1</td>\n",
       "      <td>2024-01-13 18:24:25.589352</td>\n",
       "      <td>2024-01-13 18:05:48.456728</td>\n",
       "      <td>26</td>\n",
       "      <td>sad</td>\n",
       "    </tr>\n",
       "    <tr>\n",
       "      <th>2</th>\n",
       "      <td>3</td>\n",
       "      <td>403</td>\n",
       "      <td>Random text 3</td>\n",
       "      <td>neutral</td>\n",
       "      <td>1</td>\n",
       "      <td>2024-01-13 18:01:53.055021</td>\n",
       "      <td>2024-01-13 18:20:46.633131</td>\n",
       "      <td>73</td>\n",
       "      <td>neutral</td>\n",
       "    </tr>\n",
       "    <tr>\n",
       "      <th>3</th>\n",
       "      <td>4</td>\n",
       "      <td>404</td>\n",
       "      <td>Random text 4</td>\n",
       "      <td>positive</td>\n",
       "      <td>0</td>\n",
       "      <td>2024-01-13 17:44:33.903565</td>\n",
       "      <td>2024-01-13 18:06:54.104108</td>\n",
       "      <td>71</td>\n",
       "      <td>sad</td>\n",
       "    </tr>\n",
       "    <tr>\n",
       "      <th>4</th>\n",
       "      <td>5</td>\n",
       "      <td>405</td>\n",
       "      <td>Random text 5</td>\n",
       "      <td>positive</td>\n",
       "      <td>0</td>\n",
       "      <td>2024-01-13 17:57:39.193944</td>\n",
       "      <td>2024-01-13 17:44:45.626066</td>\n",
       "      <td>19</td>\n",
       "      <td>neutral</td>\n",
       "    </tr>\n",
       "    <tr>\n",
       "      <th>...</th>\n",
       "      <td>...</td>\n",
       "      <td>...</td>\n",
       "      <td>...</td>\n",
       "      <td>...</td>\n",
       "      <td>...</td>\n",
       "      <td>...</td>\n",
       "      <td>...</td>\n",
       "      <td>...</td>\n",
       "      <td>...</td>\n",
       "    </tr>\n",
       "    <tr>\n",
       "      <th>95</th>\n",
       "      <td>96</td>\n",
       "      <td>496</td>\n",
       "      <td>Random text 96</td>\n",
       "      <td>negative</td>\n",
       "      <td>0</td>\n",
       "      <td>2024-01-13 18:08:05.094322</td>\n",
       "      <td>2024-01-13 18:10:10.022695</td>\n",
       "      <td>85</td>\n",
       "      <td>sad</td>\n",
       "    </tr>\n",
       "    <tr>\n",
       "      <th>96</th>\n",
       "      <td>97</td>\n",
       "      <td>497</td>\n",
       "      <td>Random text 97</td>\n",
       "      <td>positive</td>\n",
       "      <td>0</td>\n",
       "      <td>2024-01-13 17:55:21.196371</td>\n",
       "      <td>2024-01-13 17:34:38.393578</td>\n",
       "      <td>4</td>\n",
       "      <td>neutral</td>\n",
       "    </tr>\n",
       "    <tr>\n",
       "      <th>97</th>\n",
       "      <td>98</td>\n",
       "      <td>498</td>\n",
       "      <td>Random text 98</td>\n",
       "      <td>neutral</td>\n",
       "      <td>1</td>\n",
       "      <td>2024-01-13 17:58:17.081540</td>\n",
       "      <td>2024-01-13 17:36:39.449575</td>\n",
       "      <td>57</td>\n",
       "      <td>sad</td>\n",
       "    </tr>\n",
       "    <tr>\n",
       "      <th>98</th>\n",
       "      <td>99</td>\n",
       "      <td>499</td>\n",
       "      <td>Random text 99</td>\n",
       "      <td>neutral</td>\n",
       "      <td>0</td>\n",
       "      <td>2024-01-13 18:20:33.511802</td>\n",
       "      <td>2024-01-13 18:23:48.743449</td>\n",
       "      <td>58</td>\n",
       "      <td>sad</td>\n",
       "    </tr>\n",
       "    <tr>\n",
       "      <th>99</th>\n",
       "      <td>100</td>\n",
       "      <td>500</td>\n",
       "      <td>Random text 100</td>\n",
       "      <td>positive</td>\n",
       "      <td>0</td>\n",
       "      <td>2024-01-13 18:27:36.739122</td>\n",
       "      <td>2024-01-13 18:09:43.089785</td>\n",
       "      <td>72</td>\n",
       "      <td>sad</td>\n",
       "    </tr>\n",
       "  </tbody>\n",
       "</table>\n",
       "<p>100 rows × 9 columns</p>\n",
       "</div>"
      ],
      "text/plain": [
       "     id  callid       speechtext sentiment irony                  starttime  \\\n",
       "0     1     401    Random text 1   neutral     0 2024-01-13 18:18:27.824429   \n",
       "1     2     402    Random text 2  negative     1 2024-01-13 18:24:25.589352   \n",
       "2     3     403    Random text 3   neutral     1 2024-01-13 18:01:53.055021   \n",
       "3     4     404    Random text 4  positive     0 2024-01-13 17:44:33.903565   \n",
       "4     5     405    Random text 5  positive     0 2024-01-13 17:57:39.193944   \n",
       "..  ...     ...              ...       ...   ...                        ...   \n",
       "95   96     496   Random text 96  negative     0 2024-01-13 18:08:05.094322   \n",
       "96   97     497   Random text 97  positive     0 2024-01-13 17:55:21.196371   \n",
       "97   98     498   Random text 98   neutral     1 2024-01-13 17:58:17.081540   \n",
       "98   99     499   Random text 99   neutral     0 2024-01-13 18:20:33.511802   \n",
       "99  100     500  Random text 100  positive     0 2024-01-13 18:27:36.739122   \n",
       "\n",
       "                      endtime  hatelevelpercent meanemotion  \n",
       "0  2024-01-13 17:54:37.138510                57       happy  \n",
       "1  2024-01-13 18:05:48.456728                26         sad  \n",
       "2  2024-01-13 18:20:46.633131                73     neutral  \n",
       "3  2024-01-13 18:06:54.104108                71         sad  \n",
       "4  2024-01-13 17:44:45.626066                19     neutral  \n",
       "..                        ...               ...         ...  \n",
       "95 2024-01-13 18:10:10.022695                85         sad  \n",
       "96 2024-01-13 17:34:38.393578                 4     neutral  \n",
       "97 2024-01-13 17:36:39.449575                57         sad  \n",
       "98 2024-01-13 18:23:48.743449                58         sad  \n",
       "99 2024-01-13 18:09:43.089785                72         sad  \n",
       "\n",
       "[100 rows x 9 columns]"
      ]
     },
     "execution_count": 13,
     "metadata": {},
     "output_type": "execute_result"
    }
   ],
   "source": [
    "agent_text_emotion"
   ]
  },
  {
   "cell_type": "code",
   "execution_count": null,
   "metadata": {},
   "outputs": [],
   "source": []
  },
  {
   "cell_type": "code",
   "execution_count": null,
   "metadata": {},
   "outputs": [],
   "source": []
  },
  {
   "cell_type": "code",
   "execution_count": 12,
   "metadata": {},
   "outputs": [
    {
     "data": {
      "application/vnd.plotly.v1+json": {
       "config": {
        "plotlyServerURL": "https://plot.ly"
       },
       "data": [
        {
         "labels": [
          "Hateful",
          "Normal"
         ],
         "textinfo": "none",
         "type": "pie",
         "values": [
          60,
          40
         ]
        }
       ],
       "layout": {
        "height": 400,
        "paper_bgcolor": "rgb(16,18,22)",
        "plot_bgcolor": "rgb(16,18,22)",
        "template": {
         "data": {
          "bar": [
           {
            "error_x": {
             "color": "#2a3f5f"
            },
            "error_y": {
             "color": "#2a3f5f"
            },
            "marker": {
             "line": {
              "color": "#E5ECF6",
              "width": 0.5
             },
             "pattern": {
              "fillmode": "overlay",
              "size": 10,
              "solidity": 0.2
             }
            },
            "type": "bar"
           }
          ],
          "barpolar": [
           {
            "marker": {
             "line": {
              "color": "#E5ECF6",
              "width": 0.5
             },
             "pattern": {
              "fillmode": "overlay",
              "size": 10,
              "solidity": 0.2
             }
            },
            "type": "barpolar"
           }
          ],
          "carpet": [
           {
            "aaxis": {
             "endlinecolor": "#2a3f5f",
             "gridcolor": "white",
             "linecolor": "white",
             "minorgridcolor": "white",
             "startlinecolor": "#2a3f5f"
            },
            "baxis": {
             "endlinecolor": "#2a3f5f",
             "gridcolor": "white",
             "linecolor": "white",
             "minorgridcolor": "white",
             "startlinecolor": "#2a3f5f"
            },
            "type": "carpet"
           }
          ],
          "choropleth": [
           {
            "colorbar": {
             "outlinewidth": 0,
             "ticks": ""
            },
            "type": "choropleth"
           }
          ],
          "contour": [
           {
            "colorbar": {
             "outlinewidth": 0,
             "ticks": ""
            },
            "colorscale": [
             [
              0,
              "#0d0887"
             ],
             [
              0.1111111111111111,
              "#46039f"
             ],
             [
              0.2222222222222222,
              "#7201a8"
             ],
             [
              0.3333333333333333,
              "#9c179e"
             ],
             [
              0.4444444444444444,
              "#bd3786"
             ],
             [
              0.5555555555555556,
              "#d8576b"
             ],
             [
              0.6666666666666666,
              "#ed7953"
             ],
             [
              0.7777777777777778,
              "#fb9f3a"
             ],
             [
              0.8888888888888888,
              "#fdca26"
             ],
             [
              1,
              "#f0f921"
             ]
            ],
            "type": "contour"
           }
          ],
          "contourcarpet": [
           {
            "colorbar": {
             "outlinewidth": 0,
             "ticks": ""
            },
            "type": "contourcarpet"
           }
          ],
          "heatmap": [
           {
            "colorbar": {
             "outlinewidth": 0,
             "ticks": ""
            },
            "colorscale": [
             [
              0,
              "#0d0887"
             ],
             [
              0.1111111111111111,
              "#46039f"
             ],
             [
              0.2222222222222222,
              "#7201a8"
             ],
             [
              0.3333333333333333,
              "#9c179e"
             ],
             [
              0.4444444444444444,
              "#bd3786"
             ],
             [
              0.5555555555555556,
              "#d8576b"
             ],
             [
              0.6666666666666666,
              "#ed7953"
             ],
             [
              0.7777777777777778,
              "#fb9f3a"
             ],
             [
              0.8888888888888888,
              "#fdca26"
             ],
             [
              1,
              "#f0f921"
             ]
            ],
            "type": "heatmap"
           }
          ],
          "heatmapgl": [
           {
            "colorbar": {
             "outlinewidth": 0,
             "ticks": ""
            },
            "colorscale": [
             [
              0,
              "#0d0887"
             ],
             [
              0.1111111111111111,
              "#46039f"
             ],
             [
              0.2222222222222222,
              "#7201a8"
             ],
             [
              0.3333333333333333,
              "#9c179e"
             ],
             [
              0.4444444444444444,
              "#bd3786"
             ],
             [
              0.5555555555555556,
              "#d8576b"
             ],
             [
              0.6666666666666666,
              "#ed7953"
             ],
             [
              0.7777777777777778,
              "#fb9f3a"
             ],
             [
              0.8888888888888888,
              "#fdca26"
             ],
             [
              1,
              "#f0f921"
             ]
            ],
            "type": "heatmapgl"
           }
          ],
          "histogram": [
           {
            "marker": {
             "pattern": {
              "fillmode": "overlay",
              "size": 10,
              "solidity": 0.2
             }
            },
            "type": "histogram"
           }
          ],
          "histogram2d": [
           {
            "colorbar": {
             "outlinewidth": 0,
             "ticks": ""
            },
            "colorscale": [
             [
              0,
              "#0d0887"
             ],
             [
              0.1111111111111111,
              "#46039f"
             ],
             [
              0.2222222222222222,
              "#7201a8"
             ],
             [
              0.3333333333333333,
              "#9c179e"
             ],
             [
              0.4444444444444444,
              "#bd3786"
             ],
             [
              0.5555555555555556,
              "#d8576b"
             ],
             [
              0.6666666666666666,
              "#ed7953"
             ],
             [
              0.7777777777777778,
              "#fb9f3a"
             ],
             [
              0.8888888888888888,
              "#fdca26"
             ],
             [
              1,
              "#f0f921"
             ]
            ],
            "type": "histogram2d"
           }
          ],
          "histogram2dcontour": [
           {
            "colorbar": {
             "outlinewidth": 0,
             "ticks": ""
            },
            "colorscale": [
             [
              0,
              "#0d0887"
             ],
             [
              0.1111111111111111,
              "#46039f"
             ],
             [
              0.2222222222222222,
              "#7201a8"
             ],
             [
              0.3333333333333333,
              "#9c179e"
             ],
             [
              0.4444444444444444,
              "#bd3786"
             ],
             [
              0.5555555555555556,
              "#d8576b"
             ],
             [
              0.6666666666666666,
              "#ed7953"
             ],
             [
              0.7777777777777778,
              "#fb9f3a"
             ],
             [
              0.8888888888888888,
              "#fdca26"
             ],
             [
              1,
              "#f0f921"
             ]
            ],
            "type": "histogram2dcontour"
           }
          ],
          "mesh3d": [
           {
            "colorbar": {
             "outlinewidth": 0,
             "ticks": ""
            },
            "type": "mesh3d"
           }
          ],
          "parcoords": [
           {
            "line": {
             "colorbar": {
              "outlinewidth": 0,
              "ticks": ""
             }
            },
            "type": "parcoords"
           }
          ],
          "pie": [
           {
            "automargin": true,
            "type": "pie"
           }
          ],
          "scatter": [
           {
            "fillpattern": {
             "fillmode": "overlay",
             "size": 10,
             "solidity": 0.2
            },
            "type": "scatter"
           }
          ],
          "scatter3d": [
           {
            "line": {
             "colorbar": {
              "outlinewidth": 0,
              "ticks": ""
             }
            },
            "marker": {
             "colorbar": {
              "outlinewidth": 0,
              "ticks": ""
             }
            },
            "type": "scatter3d"
           }
          ],
          "scattercarpet": [
           {
            "marker": {
             "colorbar": {
              "outlinewidth": 0,
              "ticks": ""
             }
            },
            "type": "scattercarpet"
           }
          ],
          "scattergeo": [
           {
            "marker": {
             "colorbar": {
              "outlinewidth": 0,
              "ticks": ""
             }
            },
            "type": "scattergeo"
           }
          ],
          "scattergl": [
           {
            "marker": {
             "colorbar": {
              "outlinewidth": 0,
              "ticks": ""
             }
            },
            "type": "scattergl"
           }
          ],
          "scattermapbox": [
           {
            "marker": {
             "colorbar": {
              "outlinewidth": 0,
              "ticks": ""
             }
            },
            "type": "scattermapbox"
           }
          ],
          "scatterpolar": [
           {
            "marker": {
             "colorbar": {
              "outlinewidth": 0,
              "ticks": ""
             }
            },
            "type": "scatterpolar"
           }
          ],
          "scatterpolargl": [
           {
            "marker": {
             "colorbar": {
              "outlinewidth": 0,
              "ticks": ""
             }
            },
            "type": "scatterpolargl"
           }
          ],
          "scatterternary": [
           {
            "marker": {
             "colorbar": {
              "outlinewidth": 0,
              "ticks": ""
             }
            },
            "type": "scatterternary"
           }
          ],
          "surface": [
           {
            "colorbar": {
             "outlinewidth": 0,
             "ticks": ""
            },
            "colorscale": [
             [
              0,
              "#0d0887"
             ],
             [
              0.1111111111111111,
              "#46039f"
             ],
             [
              0.2222222222222222,
              "#7201a8"
             ],
             [
              0.3333333333333333,
              "#9c179e"
             ],
             [
              0.4444444444444444,
              "#bd3786"
             ],
             [
              0.5555555555555556,
              "#d8576b"
             ],
             [
              0.6666666666666666,
              "#ed7953"
             ],
             [
              0.7777777777777778,
              "#fb9f3a"
             ],
             [
              0.8888888888888888,
              "#fdca26"
             ],
             [
              1,
              "#f0f921"
             ]
            ],
            "type": "surface"
           }
          ],
          "table": [
           {
            "cells": {
             "fill": {
              "color": "#EBF0F8"
             },
             "line": {
              "color": "white"
             }
            },
            "header": {
             "fill": {
              "color": "#C8D4E3"
             },
             "line": {
              "color": "white"
             }
            },
            "type": "table"
           }
          ]
         },
         "layout": {
          "annotationdefaults": {
           "arrowcolor": "#2a3f5f",
           "arrowhead": 0,
           "arrowwidth": 1
          },
          "autotypenumbers": "strict",
          "coloraxis": {
           "colorbar": {
            "outlinewidth": 0,
            "ticks": ""
           }
          },
          "colorscale": {
           "diverging": [
            [
             0,
             "#8e0152"
            ],
            [
             0.1,
             "#c51b7d"
            ],
            [
             0.2,
             "#de77ae"
            ],
            [
             0.3,
             "#f1b6da"
            ],
            [
             0.4,
             "#fde0ef"
            ],
            [
             0.5,
             "#f7f7f7"
            ],
            [
             0.6,
             "#e6f5d0"
            ],
            [
             0.7,
             "#b8e186"
            ],
            [
             0.8,
             "#7fbc41"
            ],
            [
             0.9,
             "#4d9221"
            ],
            [
             1,
             "#276419"
            ]
           ],
           "sequential": [
            [
             0,
             "#0d0887"
            ],
            [
             0.1111111111111111,
             "#46039f"
            ],
            [
             0.2222222222222222,
             "#7201a8"
            ],
            [
             0.3333333333333333,
             "#9c179e"
            ],
            [
             0.4444444444444444,
             "#bd3786"
            ],
            [
             0.5555555555555556,
             "#d8576b"
            ],
            [
             0.6666666666666666,
             "#ed7953"
            ],
            [
             0.7777777777777778,
             "#fb9f3a"
            ],
            [
             0.8888888888888888,
             "#fdca26"
            ],
            [
             1,
             "#f0f921"
            ]
           ],
           "sequentialminus": [
            [
             0,
             "#0d0887"
            ],
            [
             0.1111111111111111,
             "#46039f"
            ],
            [
             0.2222222222222222,
             "#7201a8"
            ],
            [
             0.3333333333333333,
             "#9c179e"
            ],
            [
             0.4444444444444444,
             "#bd3786"
            ],
            [
             0.5555555555555556,
             "#d8576b"
            ],
            [
             0.6666666666666666,
             "#ed7953"
            ],
            [
             0.7777777777777778,
             "#fb9f3a"
            ],
            [
             0.8888888888888888,
             "#fdca26"
            ],
            [
             1,
             "#f0f921"
            ]
           ]
          },
          "colorway": [
           "#636efa",
           "#EF553B",
           "#00cc96",
           "#ab63fa",
           "#FFA15A",
           "#19d3f3",
           "#FF6692",
           "#B6E880",
           "#FF97FF",
           "#FECB52"
          ],
          "font": {
           "color": "#2a3f5f"
          },
          "geo": {
           "bgcolor": "white",
           "lakecolor": "white",
           "landcolor": "#E5ECF6",
           "showlakes": true,
           "showland": true,
           "subunitcolor": "white"
          },
          "hoverlabel": {
           "align": "left"
          },
          "hovermode": "closest",
          "mapbox": {
           "style": "light"
          },
          "paper_bgcolor": "white",
          "plot_bgcolor": "#E5ECF6",
          "polar": {
           "angularaxis": {
            "gridcolor": "white",
            "linecolor": "white",
            "ticks": ""
           },
           "bgcolor": "#E5ECF6",
           "radialaxis": {
            "gridcolor": "white",
            "linecolor": "white",
            "ticks": ""
           }
          },
          "scene": {
           "xaxis": {
            "backgroundcolor": "#E5ECF6",
            "gridcolor": "white",
            "gridwidth": 2,
            "linecolor": "white",
            "showbackground": true,
            "ticks": "",
            "zerolinecolor": "white"
           },
           "yaxis": {
            "backgroundcolor": "#E5ECF6",
            "gridcolor": "white",
            "gridwidth": 2,
            "linecolor": "white",
            "showbackground": true,
            "ticks": "",
            "zerolinecolor": "white"
           },
           "zaxis": {
            "backgroundcolor": "#E5ECF6",
            "gridcolor": "white",
            "gridwidth": 2,
            "linecolor": "white",
            "showbackground": true,
            "ticks": "",
            "zerolinecolor": "white"
           }
          },
          "shapedefaults": {
           "line": {
            "color": "#2a3f5f"
           }
          },
          "ternary": {
           "aaxis": {
            "gridcolor": "white",
            "linecolor": "white",
            "ticks": ""
           },
           "baxis": {
            "gridcolor": "white",
            "linecolor": "white",
            "ticks": ""
           },
           "bgcolor": "#E5ECF6",
           "caxis": {
            "gridcolor": "white",
            "linecolor": "white",
            "ticks": ""
           }
          },
          "title": {
           "x": 0.05
          },
          "xaxis": {
           "automargin": true,
           "gridcolor": "white",
           "linecolor": "white",
           "ticks": "",
           "title": {
            "standoff": 15
           },
           "zerolinecolor": "white",
           "zerolinewidth": 2
          },
          "yaxis": {
           "automargin": true,
           "gridcolor": "white",
           "linecolor": "white",
           "ticks": "",
           "title": {
            "standoff": 15
           },
           "zerolinecolor": "white",
           "zerolinewidth": 2
          }
         }
        },
        "width": 300
       }
      }
     },
     "metadata": {},
     "output_type": "display_data"
    }
   ],
   "source": [
    "\n",
    "# Create data for Pie chart\n",
    "labels = ['Hateful', 'Normal']\n",
    "values = [60, 40]\n",
    "# Create Pie chart\n",
    "fig = go.Figure(data=[go.Pie(labels=labels, values=values, textinfo='none')])\n",
    "fig.update_layout(\n",
    "    width=300,\n",
    "    height=400,\n",
    "    plot_bgcolor='rgb(16,18,22)',\n",
    "    paper_bgcolor='rgb(16,18,22)'\n",
    ")\n",
    "fig.show()\n"
   ]
  },
  {
   "cell_type": "code",
   "execution_count": 16,
   "metadata": {},
   "outputs": [
    {
     "data": {
      "application/vnd.plotly.v1+json": {
       "config": {
        "plotlyServerURL": "https://plot.ly"
       },
       "data": [
        {
         "labels": [
          "Hateful",
          "Normal"
         ],
         "marker": {
          "colors": [
           "#006400",
           "#ADD8E6"
          ]
         },
         "textinfo": "none",
         "type": "pie",
         "values": [
          60,
          40
         ]
        }
       ],
       "layout": {
        "height": 400,
        "paper_bgcolor": "rgb(16,18,22)",
        "plot_bgcolor": "rgb(16,18,22)",
        "template": {
         "data": {
          "bar": [
           {
            "error_x": {
             "color": "#2a3f5f"
            },
            "error_y": {
             "color": "#2a3f5f"
            },
            "marker": {
             "line": {
              "color": "#E5ECF6",
              "width": 0.5
             },
             "pattern": {
              "fillmode": "overlay",
              "size": 10,
              "solidity": 0.2
             }
            },
            "type": "bar"
           }
          ],
          "barpolar": [
           {
            "marker": {
             "line": {
              "color": "#E5ECF6",
              "width": 0.5
             },
             "pattern": {
              "fillmode": "overlay",
              "size": 10,
              "solidity": 0.2
             }
            },
            "type": "barpolar"
           }
          ],
          "carpet": [
           {
            "aaxis": {
             "endlinecolor": "#2a3f5f",
             "gridcolor": "white",
             "linecolor": "white",
             "minorgridcolor": "white",
             "startlinecolor": "#2a3f5f"
            },
            "baxis": {
             "endlinecolor": "#2a3f5f",
             "gridcolor": "white",
             "linecolor": "white",
             "minorgridcolor": "white",
             "startlinecolor": "#2a3f5f"
            },
            "type": "carpet"
           }
          ],
          "choropleth": [
           {
            "colorbar": {
             "outlinewidth": 0,
             "ticks": ""
            },
            "type": "choropleth"
           }
          ],
          "contour": [
           {
            "colorbar": {
             "outlinewidth": 0,
             "ticks": ""
            },
            "colorscale": [
             [
              0,
              "#0d0887"
             ],
             [
              0.1111111111111111,
              "#46039f"
             ],
             [
              0.2222222222222222,
              "#7201a8"
             ],
             [
              0.3333333333333333,
              "#9c179e"
             ],
             [
              0.4444444444444444,
              "#bd3786"
             ],
             [
              0.5555555555555556,
              "#d8576b"
             ],
             [
              0.6666666666666666,
              "#ed7953"
             ],
             [
              0.7777777777777778,
              "#fb9f3a"
             ],
             [
              0.8888888888888888,
              "#fdca26"
             ],
             [
              1,
              "#f0f921"
             ]
            ],
            "type": "contour"
           }
          ],
          "contourcarpet": [
           {
            "colorbar": {
             "outlinewidth": 0,
             "ticks": ""
            },
            "type": "contourcarpet"
           }
          ],
          "heatmap": [
           {
            "colorbar": {
             "outlinewidth": 0,
             "ticks": ""
            },
            "colorscale": [
             [
              0,
              "#0d0887"
             ],
             [
              0.1111111111111111,
              "#46039f"
             ],
             [
              0.2222222222222222,
              "#7201a8"
             ],
             [
              0.3333333333333333,
              "#9c179e"
             ],
             [
              0.4444444444444444,
              "#bd3786"
             ],
             [
              0.5555555555555556,
              "#d8576b"
             ],
             [
              0.6666666666666666,
              "#ed7953"
             ],
             [
              0.7777777777777778,
              "#fb9f3a"
             ],
             [
              0.8888888888888888,
              "#fdca26"
             ],
             [
              1,
              "#f0f921"
             ]
            ],
            "type": "heatmap"
           }
          ],
          "heatmapgl": [
           {
            "colorbar": {
             "outlinewidth": 0,
             "ticks": ""
            },
            "colorscale": [
             [
              0,
              "#0d0887"
             ],
             [
              0.1111111111111111,
              "#46039f"
             ],
             [
              0.2222222222222222,
              "#7201a8"
             ],
             [
              0.3333333333333333,
              "#9c179e"
             ],
             [
              0.4444444444444444,
              "#bd3786"
             ],
             [
              0.5555555555555556,
              "#d8576b"
             ],
             [
              0.6666666666666666,
              "#ed7953"
             ],
             [
              0.7777777777777778,
              "#fb9f3a"
             ],
             [
              0.8888888888888888,
              "#fdca26"
             ],
             [
              1,
              "#f0f921"
             ]
            ],
            "type": "heatmapgl"
           }
          ],
          "histogram": [
           {
            "marker": {
             "pattern": {
              "fillmode": "overlay",
              "size": 10,
              "solidity": 0.2
             }
            },
            "type": "histogram"
           }
          ],
          "histogram2d": [
           {
            "colorbar": {
             "outlinewidth": 0,
             "ticks": ""
            },
            "colorscale": [
             [
              0,
              "#0d0887"
             ],
             [
              0.1111111111111111,
              "#46039f"
             ],
             [
              0.2222222222222222,
              "#7201a8"
             ],
             [
              0.3333333333333333,
              "#9c179e"
             ],
             [
              0.4444444444444444,
              "#bd3786"
             ],
             [
              0.5555555555555556,
              "#d8576b"
             ],
             [
              0.6666666666666666,
              "#ed7953"
             ],
             [
              0.7777777777777778,
              "#fb9f3a"
             ],
             [
              0.8888888888888888,
              "#fdca26"
             ],
             [
              1,
              "#f0f921"
             ]
            ],
            "type": "histogram2d"
           }
          ],
          "histogram2dcontour": [
           {
            "colorbar": {
             "outlinewidth": 0,
             "ticks": ""
            },
            "colorscale": [
             [
              0,
              "#0d0887"
             ],
             [
              0.1111111111111111,
              "#46039f"
             ],
             [
              0.2222222222222222,
              "#7201a8"
             ],
             [
              0.3333333333333333,
              "#9c179e"
             ],
             [
              0.4444444444444444,
              "#bd3786"
             ],
             [
              0.5555555555555556,
              "#d8576b"
             ],
             [
              0.6666666666666666,
              "#ed7953"
             ],
             [
              0.7777777777777778,
              "#fb9f3a"
             ],
             [
              0.8888888888888888,
              "#fdca26"
             ],
             [
              1,
              "#f0f921"
             ]
            ],
            "type": "histogram2dcontour"
           }
          ],
          "mesh3d": [
           {
            "colorbar": {
             "outlinewidth": 0,
             "ticks": ""
            },
            "type": "mesh3d"
           }
          ],
          "parcoords": [
           {
            "line": {
             "colorbar": {
              "outlinewidth": 0,
              "ticks": ""
             }
            },
            "type": "parcoords"
           }
          ],
          "pie": [
           {
            "automargin": true,
            "type": "pie"
           }
          ],
          "scatter": [
           {
            "fillpattern": {
             "fillmode": "overlay",
             "size": 10,
             "solidity": 0.2
            },
            "type": "scatter"
           }
          ],
          "scatter3d": [
           {
            "line": {
             "colorbar": {
              "outlinewidth": 0,
              "ticks": ""
             }
            },
            "marker": {
             "colorbar": {
              "outlinewidth": 0,
              "ticks": ""
             }
            },
            "type": "scatter3d"
           }
          ],
          "scattercarpet": [
           {
            "marker": {
             "colorbar": {
              "outlinewidth": 0,
              "ticks": ""
             }
            },
            "type": "scattercarpet"
           }
          ],
          "scattergeo": [
           {
            "marker": {
             "colorbar": {
              "outlinewidth": 0,
              "ticks": ""
             }
            },
            "type": "scattergeo"
           }
          ],
          "scattergl": [
           {
            "marker": {
             "colorbar": {
              "outlinewidth": 0,
              "ticks": ""
             }
            },
            "type": "scattergl"
           }
          ],
          "scattermapbox": [
           {
            "marker": {
             "colorbar": {
              "outlinewidth": 0,
              "ticks": ""
             }
            },
            "type": "scattermapbox"
           }
          ],
          "scatterpolar": [
           {
            "marker": {
             "colorbar": {
              "outlinewidth": 0,
              "ticks": ""
             }
            },
            "type": "scatterpolar"
           }
          ],
          "scatterpolargl": [
           {
            "marker": {
             "colorbar": {
              "outlinewidth": 0,
              "ticks": ""
             }
            },
            "type": "scatterpolargl"
           }
          ],
          "scatterternary": [
           {
            "marker": {
             "colorbar": {
              "outlinewidth": 0,
              "ticks": ""
             }
            },
            "type": "scatterternary"
           }
          ],
          "surface": [
           {
            "colorbar": {
             "outlinewidth": 0,
             "ticks": ""
            },
            "colorscale": [
             [
              0,
              "#0d0887"
             ],
             [
              0.1111111111111111,
              "#46039f"
             ],
             [
              0.2222222222222222,
              "#7201a8"
             ],
             [
              0.3333333333333333,
              "#9c179e"
             ],
             [
              0.4444444444444444,
              "#bd3786"
             ],
             [
              0.5555555555555556,
              "#d8576b"
             ],
             [
              0.6666666666666666,
              "#ed7953"
             ],
             [
              0.7777777777777778,
              "#fb9f3a"
             ],
             [
              0.8888888888888888,
              "#fdca26"
             ],
             [
              1,
              "#f0f921"
             ]
            ],
            "type": "surface"
           }
          ],
          "table": [
           {
            "cells": {
             "fill": {
              "color": "#EBF0F8"
             },
             "line": {
              "color": "white"
             }
            },
            "header": {
             "fill": {
              "color": "#C8D4E3"
             },
             "line": {
              "color": "white"
             }
            },
            "type": "table"
           }
          ]
         },
         "layout": {
          "annotationdefaults": {
           "arrowcolor": "#2a3f5f",
           "arrowhead": 0,
           "arrowwidth": 1
          },
          "autotypenumbers": "strict",
          "coloraxis": {
           "colorbar": {
            "outlinewidth": 0,
            "ticks": ""
           }
          },
          "colorscale": {
           "diverging": [
            [
             0,
             "#8e0152"
            ],
            [
             0.1,
             "#c51b7d"
            ],
            [
             0.2,
             "#de77ae"
            ],
            [
             0.3,
             "#f1b6da"
            ],
            [
             0.4,
             "#fde0ef"
            ],
            [
             0.5,
             "#f7f7f7"
            ],
            [
             0.6,
             "#e6f5d0"
            ],
            [
             0.7,
             "#b8e186"
            ],
            [
             0.8,
             "#7fbc41"
            ],
            [
             0.9,
             "#4d9221"
            ],
            [
             1,
             "#276419"
            ]
           ],
           "sequential": [
            [
             0,
             "#0d0887"
            ],
            [
             0.1111111111111111,
             "#46039f"
            ],
            [
             0.2222222222222222,
             "#7201a8"
            ],
            [
             0.3333333333333333,
             "#9c179e"
            ],
            [
             0.4444444444444444,
             "#bd3786"
            ],
            [
             0.5555555555555556,
             "#d8576b"
            ],
            [
             0.6666666666666666,
             "#ed7953"
            ],
            [
             0.7777777777777778,
             "#fb9f3a"
            ],
            [
             0.8888888888888888,
             "#fdca26"
            ],
            [
             1,
             "#f0f921"
            ]
           ],
           "sequentialminus": [
            [
             0,
             "#0d0887"
            ],
            [
             0.1111111111111111,
             "#46039f"
            ],
            [
             0.2222222222222222,
             "#7201a8"
            ],
            [
             0.3333333333333333,
             "#9c179e"
            ],
            [
             0.4444444444444444,
             "#bd3786"
            ],
            [
             0.5555555555555556,
             "#d8576b"
            ],
            [
             0.6666666666666666,
             "#ed7953"
            ],
            [
             0.7777777777777778,
             "#fb9f3a"
            ],
            [
             0.8888888888888888,
             "#fdca26"
            ],
            [
             1,
             "#f0f921"
            ]
           ]
          },
          "colorway": [
           "#636efa",
           "#EF553B",
           "#00cc96",
           "#ab63fa",
           "#FFA15A",
           "#19d3f3",
           "#FF6692",
           "#B6E880",
           "#FF97FF",
           "#FECB52"
          ],
          "font": {
           "color": "#2a3f5f"
          },
          "geo": {
           "bgcolor": "white",
           "lakecolor": "white",
           "landcolor": "#E5ECF6",
           "showlakes": true,
           "showland": true,
           "subunitcolor": "white"
          },
          "hoverlabel": {
           "align": "left"
          },
          "hovermode": "closest",
          "mapbox": {
           "style": "light"
          },
          "paper_bgcolor": "white",
          "plot_bgcolor": "#E5ECF6",
          "polar": {
           "angularaxis": {
            "gridcolor": "white",
            "linecolor": "white",
            "ticks": ""
           },
           "bgcolor": "#E5ECF6",
           "radialaxis": {
            "gridcolor": "white",
            "linecolor": "white",
            "ticks": ""
           }
          },
          "scene": {
           "xaxis": {
            "backgroundcolor": "#E5ECF6",
            "gridcolor": "white",
            "gridwidth": 2,
            "linecolor": "white",
            "showbackground": true,
            "ticks": "",
            "zerolinecolor": "white"
           },
           "yaxis": {
            "backgroundcolor": "#E5ECF6",
            "gridcolor": "white",
            "gridwidth": 2,
            "linecolor": "white",
            "showbackground": true,
            "ticks": "",
            "zerolinecolor": "white"
           },
           "zaxis": {
            "backgroundcolor": "#E5ECF6",
            "gridcolor": "white",
            "gridwidth": 2,
            "linecolor": "white",
            "showbackground": true,
            "ticks": "",
            "zerolinecolor": "white"
           }
          },
          "shapedefaults": {
           "line": {
            "color": "#2a3f5f"
           }
          },
          "ternary": {
           "aaxis": {
            "gridcolor": "white",
            "linecolor": "white",
            "ticks": ""
           },
           "baxis": {
            "gridcolor": "white",
            "linecolor": "white",
            "ticks": ""
           },
           "bgcolor": "#E5ECF6",
           "caxis": {
            "gridcolor": "white",
            "linecolor": "white",
            "ticks": ""
           }
          },
          "title": {
           "x": 0.05
          },
          "xaxis": {
           "automargin": true,
           "gridcolor": "white",
           "linecolor": "white",
           "ticks": "",
           "title": {
            "standoff": 15
           },
           "zerolinecolor": "white",
           "zerolinewidth": 2
          },
          "yaxis": {
           "automargin": true,
           "gridcolor": "white",
           "linecolor": "white",
           "ticks": "",
           "title": {
            "standoff": 15
           },
           "zerolinecolor": "white",
           "zerolinewidth": 2
          }
         }
        },
        "width": 300
       }
      }
     },
     "metadata": {},
     "output_type": "display_data"
    }
   ],
   "source": [
    "# Create data for Pie chart\n",
    "labels = ['Hateful', 'Normal']\n",
    "values = [60, 40]  # Negative value for \"Hateful\"\n",
    "colors = ['#A52A2A', '#006400']  # Red for negative, Green for positive\n",
    "\n",
    "# Create Pie chart\n",
    "fig = go.Figure(data=[go.Pie(labels=labels, values=values, textinfo='none', marker=dict(colors=colors))])\n",
    "fig.update_layout(\n",
    "    width=300,\n",
    "    height=400,\n",
    "    plot_bgcolor='rgb(16,18,22)',\n",
    "    paper_bgcolor='rgb(16,18,22)'\n",
    ")\n",
    "fig.show()"
   ]
  },
  {
   "cell_type": "code",
   "execution_count": 50,
   "metadata": {},
   "outputs": [],
   "source": [
    "def get_ind_data(call_id):\n",
    "    query_call_info = \"\"\"SELECT * FROM public.callinfo\n",
    "                         where callid = {}\"\"\".format(call_id)\n",
    "    query_call = \"\"\"SELECT * FROM public.call\n",
    "                         where callid = {}\"\"\".format(call_id)\n",
    "\n",
    "    df_call_info = pd.read_sql_query(query_call_info, engine)\n",
    "    df_call = pd.read_sql_query(query_call, engine)\n",
    "\n",
    "    df = pd.merge(df_call,df_call_info,how='left',on='callid')\n",
    "\n",
    "    # Replace this with your SQL query\n",
    "    query_clint_text_emotion = \"\"\"\n",
    "                        SELECT * FROM public.call_mood_agent\n",
    "                        WHERE callid = {}\n",
    "                            \"\"\".format(call_id)\n",
    "    clint_text_emotion = pd.read_sql_query(query_clint_text_emotion, engine)\n",
    "    # Replace this with your SQL query\n",
    "    query_agent_text_emotion = \"\"\"\n",
    "                        SELECT * FROM public.call_mood_agent\n",
    "                        WHERE callid = {}\n",
    "                            \"\"\".format(call_id)\n",
    "    agent_text_emotion = pd.read_sql_query(query_agent_text_emotion, engine)\n",
    "\n",
    "    call_id\n",
    "    topic = df.topic[0]\n",
    "    duration = df.duration[0]\n",
    "    datetime = df.starttime[0]\n",
    "    customer_satisfaction_rate = df.customer_satisfaction_rate[0]\n",
    "    agent_performance_rate = df.agent_performance_rate[0]\n",
    "    callscore = df.callscore[0]\n",
    "    emotion_client = list(clint_text_emotion.emotion_in_numbers)\n",
    "    emotion_agent = list(agent_text_emotion.emotion_in_numbers)\n",
    "\n",
    "    dict_met = {'call_id':call_id,'topic':topic,'duration':duration,'datetime':datetime,\n",
    "                'customer_satisfaction_rate':customer_satisfaction_rate,'agent_performance_rate':agent_performance_rate,\n",
    "                'callscore':callscore,'emotion_client':emotion_client,'emotion_agent':emotion_agent}\n",
    "    return dict_met"
   ]
  },
  {
   "cell_type": "code",
   "execution_count": 51,
   "metadata": {},
   "outputs": [
    {
     "data": {
      "text/plain": [
       "{'call_id': 404,\n",
       " 'topic': 'YourTopic0',\n",
       " 'duration': 130,\n",
       " 'datetime': Timestamp('2023-10-16 19:52:45.783885'),\n",
       " 'customer_satisfaction_rate': 11,\n",
       " 'agent_performance_rate': 22,\n",
       " 'callscore': 53,\n",
       " 'emotion_client': [4,\n",
       "  4,\n",
       "  4,\n",
       "  2,\n",
       "  4,\n",
       "  4,\n",
       "  2,\n",
       "  4,\n",
       "  4,\n",
       "  4,\n",
       "  4,\n",
       "  4,\n",
       "  4,\n",
       "  4,\n",
       "  4,\n",
       "  1,\n",
       "  1,\n",
       "  2,\n",
       "  1,\n",
       "  4,\n",
       "  1,\n",
       "  4,\n",
       "  2,\n",
       "  4,\n",
       "  4,\n",
       "  1,\n",
       "  4,\n",
       "  3,\n",
       "  4,\n",
       "  4],\n",
       " 'emotion_agent': [4,\n",
       "  4,\n",
       "  4,\n",
       "  2,\n",
       "  4,\n",
       "  4,\n",
       "  2,\n",
       "  4,\n",
       "  4,\n",
       "  4,\n",
       "  4,\n",
       "  4,\n",
       "  4,\n",
       "  4,\n",
       "  4,\n",
       "  1,\n",
       "  1,\n",
       "  2,\n",
       "  1,\n",
       "  4,\n",
       "  1,\n",
       "  4,\n",
       "  2,\n",
       "  4,\n",
       "  4,\n",
       "  1,\n",
       "  4,\n",
       "  3,\n",
       "  4,\n",
       "  4]}"
      ]
     },
     "execution_count": 51,
     "metadata": {},
     "output_type": "execute_result"
    }
   ],
   "source": [
    "get_ind_data(404)"
   ]
  },
  {
   "cell_type": "code",
   "execution_count": 15,
   "metadata": {},
   "outputs": [
    {
     "data": {
      "text/html": [
       "<div>\n",
       "<style scoped>\n",
       "    .dataframe tbody tr th:only-of-type {\n",
       "        vertical-align: middle;\n",
       "    }\n",
       "\n",
       "    .dataframe tbody tr th {\n",
       "        vertical-align: top;\n",
       "    }\n",
       "\n",
       "    .dataframe thead th {\n",
       "        text-align: right;\n",
       "    }\n",
       "</style>\n",
       "<table border=\"1\" class=\"dataframe\">\n",
       "  <thead>\n",
       "    <tr style=\"text-align: right;\">\n",
       "      <th></th>\n",
       "      <th>callid</th>\n",
       "      <th>starttime</th>\n",
       "      <th>agentid</th>\n",
       "      <th>callscore</th>\n",
       "      <th>duration</th>\n",
       "      <th>endtime</th>\n",
       "      <th>id</th>\n",
       "      <th>topic</th>\n",
       "      <th>ironypercent</th>\n",
       "      <th>clientinterrupts</th>\n",
       "      <th>agentinterrupts</th>\n",
       "      <th>silencepercent</th>\n",
       "      <th>hatespeechpercent</th>\n",
       "      <th>clientspeechduration</th>\n",
       "      <th>agentspeechduration</th>\n",
       "      <th>customer_satisfaction_rate</th>\n",
       "      <th>agent_performance_rate</th>\n",
       "      <th>alert</th>\n",
       "      <th>satisfied</th>\n",
       "    </tr>\n",
       "  </thead>\n",
       "  <tbody>\n",
       "    <tr>\n",
       "      <th>0</th>\n",
       "      <td>405</td>\n",
       "      <td>2024-01-04 03:00:45.783885</td>\n",
       "      <td>170226</td>\n",
       "      <td>82</td>\n",
       "      <td>8</td>\n",
       "      <td>2024-01-04 03:01:30.783885</td>\n",
       "      <td>5</td>\n",
       "      <td>YourTopic4</td>\n",
       "      <td>56</td>\n",
       "      <td>0</td>\n",
       "      <td>1</td>\n",
       "      <td>26</td>\n",
       "      <td>60</td>\n",
       "      <td>23</td>\n",
       "      <td>8</td>\n",
       "      <td>11</td>\n",
       "      <td>87</td>\n",
       "      <td>0</td>\n",
       "      <td>False</td>\n",
       "    </tr>\n",
       "  </tbody>\n",
       "</table>\n",
       "</div>"
      ],
      "text/plain": [
       "   callid                  starttime  agentid  callscore  duration  \\\n",
       "0     405 2024-01-04 03:00:45.783885   170226         82         8   \n",
       "\n",
       "                     endtime  id       topic  ironypercent  clientinterrupts  \\\n",
       "0 2024-01-04 03:01:30.783885   5  YourTopic4            56                 0   \n",
       "\n",
       "   agentinterrupts  silencepercent  hatespeechpercent  clientspeechduration  \\\n",
       "0                1              26                 60                    23   \n",
       "\n",
       "   agentspeechduration  customer_satisfaction_rate  agent_performance_rate  \\\n",
       "0                    8                          11                      87   \n",
       "\n",
       "   alert  satisfied  \n",
       "0      0      False  "
      ]
     },
     "execution_count": 15,
     "metadata": {},
     "output_type": "execute_result"
    }
   ],
   "source": [
    "df"
   ]
  },
  {
   "cell_type": "code",
   "execution_count": 44,
   "metadata": {},
   "outputs": [],
   "source": []
  },
  {
   "cell_type": "code",
   "execution_count": 16,
   "metadata": {},
   "outputs": [
    {
     "data": {
      "text/plain": [
       "405"
      ]
     },
     "execution_count": 16,
     "metadata": {},
     "output_type": "execute_result"
    }
   ],
   "source": []
  },
  {
   "cell_type": "code",
   "execution_count": null,
   "metadata": {},
   "outputs": [],
   "source": []
  }
 ],
 "metadata": {
  "kernelspec": {
   "display_name": "streamlit-env",
   "language": "python",
   "name": "python3"
  },
  "language_info": {
   "codemirror_mode": {
    "name": "ipython",
    "version": 3
   },
   "file_extension": ".py",
   "mimetype": "text/x-python",
   "name": "python",
   "nbconvert_exporter": "python",
   "pygments_lexer": "ipython3",
   "version": "3.9.16"
  }
 },
 "nbformat": 4,
 "nbformat_minor": 2
}
